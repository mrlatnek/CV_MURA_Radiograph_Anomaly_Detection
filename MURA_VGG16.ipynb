{
 "cells": [
  {
   "cell_type": "markdown",
   "metadata": {
    "colab_type": "text",
    "id": "yqzNXxDqTXZE"
   },
   "source": [
    "# MURA project deep learning"
   ]
  },
  {
   "cell_type": "markdown",
   "metadata": {
    "colab_type": "text",
    "id": "Zql7i_4ht2oo"
   },
   "source": [
    "### Updates - 04/23/2019\n",
    "1. Selected on ELBOW for training our models.\n",
    "2. Models(pre-built) are now training w/o errors.\n",
    "3. Need to fix issue of stagnant train acc,loss and volatile valid acc,loss by shuffling train and valid lists.\n",
    "\n",
    "### Updates - 04/20/2019\n",
    "1. Reshaping the images to be of size 512x512 which is the size used in most of the MURA implementaions on github.\n",
    "2. Reshaping is done by black padding the images so that the original image stays in the center."
   ]
  },
  {
   "cell_type": "markdown",
   "metadata": {
    "colab_type": "text",
    "id": "X5QYtOa3TeYT"
   },
   "source": [
    "Dataset and competition page - https://stanfordmlgroup.github.io/competitions/mura/"
   ]
  },
  {
   "cell_type": "code",
   "execution_count": 0,
   "metadata": {
    "colab": {},
    "colab_type": "code",
    "id": "jVUbC90FTlKZ"
   },
   "outputs": [],
   "source": [
    "# Import necessary libraries\n",
    "\n",
    "# Numerical computation\n",
    "import numpy as np\n",
    "\n",
    "# Data manipulation\n",
    "import pandas as pd\n",
    "\n",
    "# Deep Learning libraries\n",
    "import tensorflow as tf\n",
    "from tensorflow.python import keras\n",
    "\n",
    "# Data Viz\n",
    "import matplotlib.pyplot as plt\n",
    "%matplotlib inline\n",
    "\n",
    "# Operating system lib\n",
    "import os"
   ]
  },
  {
   "cell_type": "code",
   "execution_count": 0,
   "metadata": {
    "colab": {
     "base_uri": "https://localhost:8080/",
     "height": 68
    },
    "colab_type": "code",
    "id": "yDzBSSW-J30z",
    "outputId": "2d6d57a0-42d6-48b5-a455-b74679cd8d7e"
   },
   "outputs": [
    {
     "name": "stdout",
     "output_type": "stream",
     "text": [
      "Download file... MURA.zip ...\n",
      "File downloaded\n",
      "All the files are downloaded\n"
     ]
    }
   ],
   "source": [
    "# Download the MURA dataset\n",
    "# Reference -\n",
    "from urllib.request import urlretrieve\n",
    "from zipfile import ZipFile\n",
    "\n",
    "def download(url, file):\n",
    "    if not os.path.isfile(file):\n",
    "        print(\"Download file... \" + file + \" ...\")\n",
    "        urlretrieve(url,file)\n",
    "        print(\"File downloaded\")\n",
    "\n",
    "download('https://cs.stanford.edu/group/mlgroup/MURA-v1.1.zip','MURA.zip')\n",
    "print(\"All the files are downloaded\")"
   ]
  },
  {
   "cell_type": "code",
   "execution_count": null,
   "metadata": {
    "colab": {
     "base_uri": "https://localhost:8080/",
     "height": 1168580
    },
    "colab_type": "code",
    "id": "DzUZVhw_MH09",
    "outputId": "b729d30e-8a21-4a92-a016-a416bc2d7c5f"
   },
   "outputs": [],
   "source": [
    "# Unzip the file\n",
    "!unzip MURA.zip"
   ]
  },
  {
   "cell_type": "code",
   "execution_count": 0,
   "metadata": {
    "colab": {
     "base_uri": "https://localhost:8080/",
     "height": 119
    },
    "colab_type": "code",
    "id": "mM4LL7sJSHge",
    "outputId": "61ca8620-1717-4796-ae0c-53d00a0dcfb6"
   },
   "outputs": [
    {
     "data": {
      "text/plain": [
       "['train_labeled_studies.csv',\n",
       " 'valid_image_paths.csv',\n",
       " 'valid',\n",
       " 'valid_labeled_studies.csv',\n",
       " 'train',\n",
       " 'train_image_paths.csv']"
      ]
     },
     "execution_count": 4,
     "metadata": {
      "tags": []
     },
     "output_type": "execute_result"
    }
   ],
   "source": [
    "# Change working directory and display the files and folders within the MURA-v1.1 directory\n",
    "os.chdir('MURA-v1.1')\n",
    "os.listdir()"
   ]
  },
  {
   "cell_type": "code",
   "execution_count": 0,
   "metadata": {
    "colab": {
     "base_uri": "https://localhost:8080/",
     "height": 204
    },
    "colab_type": "code",
    "id": "r5rg2ol0SZuB",
    "outputId": "a5657a5e-5b3c-4095-9d5c-554da354ff10"
   },
   "outputs": [
    {
     "data": {
      "text/html": [
       "<div>\n",
       "<style scoped>\n",
       "    .dataframe tbody tr th:only-of-type {\n",
       "        vertical-align: middle;\n",
       "    }\n",
       "\n",
       "    .dataframe tbody tr th {\n",
       "        vertical-align: top;\n",
       "    }\n",
       "\n",
       "    .dataframe thead th {\n",
       "        text-align: right;\n",
       "    }\n",
       "</style>\n",
       "<table border=\"1\" class=\"dataframe\">\n",
       "  <thead>\n",
       "    <tr style=\"text-align: right;\">\n",
       "      <th></th>\n",
       "      <th>image_path</th>\n",
       "    </tr>\n",
       "  </thead>\n",
       "  <tbody>\n",
       "    <tr>\n",
       "      <th>0</th>\n",
       "      <td>MURA-v1.1/valid/XR_WRIST/patient11185/study1_p...</td>\n",
       "    </tr>\n",
       "    <tr>\n",
       "      <th>1</th>\n",
       "      <td>MURA-v1.1/valid/XR_WRIST/patient11185/study1_p...</td>\n",
       "    </tr>\n",
       "    <tr>\n",
       "      <th>2</th>\n",
       "      <td>MURA-v1.1/valid/XR_WRIST/patient11185/study1_p...</td>\n",
       "    </tr>\n",
       "    <tr>\n",
       "      <th>3</th>\n",
       "      <td>MURA-v1.1/valid/XR_WRIST/patient11185/study1_p...</td>\n",
       "    </tr>\n",
       "    <tr>\n",
       "      <th>4</th>\n",
       "      <td>MURA-v1.1/valid/XR_WRIST/patient11186/study1_p...</td>\n",
       "    </tr>\n",
       "  </tbody>\n",
       "</table>\n",
       "</div>"
      ],
      "text/plain": [
       "                                          image_path\n",
       "0  MURA-v1.1/valid/XR_WRIST/patient11185/study1_p...\n",
       "1  MURA-v1.1/valid/XR_WRIST/patient11185/study1_p...\n",
       "2  MURA-v1.1/valid/XR_WRIST/patient11185/study1_p...\n",
       "3  MURA-v1.1/valid/XR_WRIST/patient11185/study1_p...\n",
       "4  MURA-v1.1/valid/XR_WRIST/patient11186/study1_p..."
      ]
     },
     "execution_count": 5,
     "metadata": {
      "tags": []
     },
     "output_type": "execute_result"
    }
   ],
   "source": [
    "# Load the csv file as a pandas df containing the training image paths\n",
    "train_image_paths = pd.read_csv('train_image_paths.csv',header=None)\n",
    "train_image_paths.columns = ['image_path']\n",
    "train_image_paths.head(5)\n",
    "\n",
    "# Load the csv file as a pandas df containing the validation image paths\n",
    "valid_image_paths = pd.read_csv('valid_image_paths.csv',header=None)\n",
    "valid_image_paths.columns = ['image_path']\n",
    "valid_image_paths.head(5)"
   ]
  },
  {
   "cell_type": "code",
   "execution_count": 0,
   "metadata": {
    "colab": {
     "base_uri": "https://localhost:8080/",
     "height": 204
    },
    "colab_type": "code",
    "id": "YL1qBIsCSkER",
    "outputId": "9d2cd90a-243d-45f9-800e-429a7194c7b9"
   },
   "outputs": [
    {
     "data": {
      "text/html": [
       "<div>\n",
       "<style scoped>\n",
       "    .dataframe tbody tr th:only-of-type {\n",
       "        vertical-align: middle;\n",
       "    }\n",
       "\n",
       "    .dataframe tbody tr th {\n",
       "        vertical-align: top;\n",
       "    }\n",
       "\n",
       "    .dataframe thead th {\n",
       "        text-align: right;\n",
       "    }\n",
       "</style>\n",
       "<table border=\"1\" class=\"dataframe\">\n",
       "  <thead>\n",
       "    <tr style=\"text-align: right;\">\n",
       "      <th></th>\n",
       "      <th>study_name</th>\n",
       "      <th>label</th>\n",
       "    </tr>\n",
       "  </thead>\n",
       "  <tbody>\n",
       "    <tr>\n",
       "      <th>0</th>\n",
       "      <td>MURA-v1.1/valid/XR_WRIST/patient11185/study1_p...</td>\n",
       "      <td>1</td>\n",
       "    </tr>\n",
       "    <tr>\n",
       "      <th>1</th>\n",
       "      <td>MURA-v1.1/valid/XR_WRIST/patient11186/study1_p...</td>\n",
       "      <td>1</td>\n",
       "    </tr>\n",
       "    <tr>\n",
       "      <th>2</th>\n",
       "      <td>MURA-v1.1/valid/XR_WRIST/patient11186/study2_p...</td>\n",
       "      <td>1</td>\n",
       "    </tr>\n",
       "    <tr>\n",
       "      <th>3</th>\n",
       "      <td>MURA-v1.1/valid/XR_WRIST/patient11186/study3_p...</td>\n",
       "      <td>1</td>\n",
       "    </tr>\n",
       "    <tr>\n",
       "      <th>4</th>\n",
       "      <td>MURA-v1.1/valid/XR_WRIST/patient11187/study1_p...</td>\n",
       "      <td>1</td>\n",
       "    </tr>\n",
       "  </tbody>\n",
       "</table>\n",
       "</div>"
      ],
      "text/plain": [
       "                                          study_name  label\n",
       "0  MURA-v1.1/valid/XR_WRIST/patient11185/study1_p...      1\n",
       "1  MURA-v1.1/valid/XR_WRIST/patient11186/study1_p...      1\n",
       "2  MURA-v1.1/valid/XR_WRIST/patient11186/study2_p...      1\n",
       "3  MURA-v1.1/valid/XR_WRIST/patient11186/study3_p...      1\n",
       "4  MURA-v1.1/valid/XR_WRIST/patient11187/study1_p...      1"
      ]
     },
     "execution_count": 6,
     "metadata": {
      "tags": []
     },
     "output_type": "execute_result"
    }
   ],
   "source": [
    "# Load the csv file as a pandas df containing the training study labels\n",
    "train_labelled_studies = pd.read_csv('train_labeled_studies.csv',header=None)\n",
    "train_labelled_studies.columns = ['study_name','label']\n",
    "train_labelled_studies.head(5)\n",
    "\n",
    "# Load the csv file as a pandas df containing the validation study labels\n",
    "valid_labelled_studies = pd.read_csv('valid_labeled_studies.csv',header=None)\n",
    "valid_labelled_studies.columns = ['study_name','label']\n",
    "valid_labelled_studies.head(5)"
   ]
  },
  {
   "cell_type": "code",
   "execution_count": 0,
   "metadata": {
    "colab": {},
    "colab_type": "code",
    "id": "YssdOChsyp4Z"
   },
   "outputs": [],
   "source": [
    "# Go back one directory to the parent\n",
    "os.chdir('..')"
   ]
  },
  {
   "cell_type": "code",
   "execution_count": 0,
   "metadata": {
    "colab": {},
    "colab_type": "code",
    "id": "pBH88mtEkfhL"
   },
   "outputs": [],
   "source": [
    "def addImageLists(df):\n",
    "  \"\"\"\n",
    "  Function which takes a studies dataframe (train or valid) and returns the dataframe after adding a new column containing lists of images in that study\n",
    "  \"\"\"\n",
    "  # Our column containing a list of images for each study\n",
    "  images = []\n",
    "\n",
    "  for study_name in df['study_name']:\n",
    "    image_list = [study_name+image_name for image_name in os.listdir(study_name)]\n",
    "    images.append(image_list)\n",
    "    \n",
    "  # Add the column and return the dataframe\n",
    "  df['images'] = images\n",
    "  return df\n",
    "  "
   ]
  },
  {
   "cell_type": "code",
   "execution_count": 0,
   "metadata": {
    "colab": {},
    "colab_type": "code",
    "id": "rayh3L5av4oH"
   },
   "outputs": [],
   "source": [
    "# Create the new train_labelled_studies df for EDA\n",
    "train_labelled_studies = addImageLists(train_labelled_studies)\n",
    "# Create the new valid_labelled_studies df for EDA\n",
    "valid_labelled_studies = addImageLists(valid_labelled_studies)"
   ]
  },
  {
   "cell_type": "code",
   "execution_count": 0,
   "metadata": {
    "colab": {},
    "colab_type": "code",
    "id": "rz1imGZAIEKz"
   },
   "outputs": [],
   "source": [
    "# Filter data relevant only to a particular body part\n",
    "# MURA-v1.1/train/XR_SHOULDER/patient00001/study1_positive/\n",
    "\n",
    "BODY_PART = 'XR_ELBOW'\n",
    "\n",
    "# Filter the train dataframe for a particular body part\n",
    "train_labelled_studies = train_labelled_studies[train_labelled_studies['study_name'].str.contains(BODY_PART)]\n",
    "\n",
    "# Filter the valid dataframe for a particular body part\n",
    "valid_labelled_studies = valid_labelled_studies[valid_labelled_studies['study_name'].str.contains(BODY_PART)]"
   ]
  },
  {
   "cell_type": "code",
   "execution_count": 0,
   "metadata": {
    "colab": {},
    "colab_type": "code",
    "id": "Y1iG6HhUt38R"
   },
   "outputs": [],
   "source": [
    "def createImageLists(df):\n",
    "  \"\"\"\n",
    "  Function which takes a studies dataframe (train or valid) and returns the dataframe after adding a new column containing lists of images in that study\n",
    "  \"\"\"\n",
    "  # Our column containing a list of images for each study\n",
    "  images = []\n",
    "  labels = []\n",
    "  \n",
    "  for index, row in df.iterrows():\n",
    "    \n",
    "    study_name = row['study_name']\n",
    "    label = row['label']\n",
    "    \n",
    "    for image_name in os.listdir(study_name):\n",
    "      images.append(study_name+image_name)\n",
    "      labels.append(label)\n",
    "    \n",
    "  return images,labels"
   ]
  },
  {
   "cell_type": "code",
   "execution_count": 0,
   "metadata": {
    "colab": {},
    "colab_type": "code",
    "id": "y31InFgMvAWF"
   },
   "outputs": [],
   "source": [
    "# Generate the train image and label lists\n",
    "train_image_list, train_label_list = createImageLists(train_labelled_studies)\n",
    "\n",
    "# Generate the validation image and label lists\n",
    "valid_image_list, valid_label_list = createImageLists(valid_labelled_studies)"
   ]
  },
  {
   "cell_type": "code",
   "execution_count": 0,
   "metadata": {
    "colab": {},
    "colab_type": "code",
    "id": "yEKNurp6iYaR"
   },
   "outputs": [],
   "source": [
    "# Shuffle train and valid lists\n",
    "import sklearn\n",
    "from sklearn.utils import shuffle\n",
    "\n",
    "train_image_list, train_label_list = shuffle(train_image_list, train_label_list)\n",
    "\n",
    "valid_image_list, valid_label_list = shuffle(valid_image_list, valid_label_list)"
   ]
  },
  {
   "cell_type": "code",
   "execution_count": 0,
   "metadata": {
    "colab": {},
    "colab_type": "code",
    "id": "tEsFdDmVSrbl"
   },
   "outputs": [],
   "source": [
    "# Start an interactive tf session\n",
    "sess = tf.InteractiveSession()"
   ]
  },
  {
   "cell_type": "markdown",
   "metadata": {
    "colab_type": "text",
    "id": "TbH-RWfIdz1B"
   },
   "source": [
    "### Data pipeline to do list\n",
    "1. Create a dataframe having the study directory, list of image paths and labels as a dataframe - DONE\n",
    "2. Resize all the images to the same size.\n",
    "3. Apply image augmentation techniques like : \n",
    "<p>a. Horizontal flipping<br>\n",
    "b. Random rotation upto 30 degrees<br>\n",
    "</p>\n",
    "\n",
    "Important links:<br>\n",
    "Pipeline creation - https://www.tensorflow.org/guide/datasets <br>\n",
    "How to use this pipeline in keras models - https://medium.com/tensorflow/training-and-serving-ml-models-with-tf-keras-fd975cc0fa27 <br>"
   ]
  },
  {
   "cell_type": "markdown",
   "metadata": {
    "colab_type": "text",
    "id": "7_QBGdzr5xiE"
   },
   "source": [
    "To do for data pipeline:<br>\n",
    "1. Augmentation - (30 degree rotation,horizontal flip)\n",
    "2. Shuffle\n",
    "\n",
    "To do for model:<br>\n",
    "1. Test various models and note down accuracy.\n",
    "2.  Create ensemble of two best models: 5 each.\n",
    "\n",
    "To do for predictions:<br>\n",
    "Function for studywise predictions."
   ]
  },
  {
   "cell_type": "code",
   "execution_count": 0,
   "metadata": {
    "colab": {
     "base_uri": "https://localhost:8080/",
     "height": 207
    },
    "colab_type": "code",
    "id": "v0HoAuLrmDgp",
    "outputId": "8afbaf7a-1ebc-431d-8d8d-93c4ef2e88f6"
   },
   "outputs": [
    {
     "name": "stdout",
     "output_type": "stream",
     "text": [
      "WARNING:tensorflow:From /usr/local/lib/python3.6/dist-packages/tensorflow/python/ops/control_flow_ops.py:3632: colocate_with (from tensorflow.python.framework.ops) is deprecated and will be removed in a future version.\n",
      "Instructions for updating:\n",
      "Colocations handled automatically by placer.\n",
      "\n",
      "WARNING: The TensorFlow contrib module will not be included in TensorFlow 2.0.\n",
      "For more information, please see:\n",
      "  * https://github.com/tensorflow/community/blob/master/rfcs/20180907-contrib-sunset.md\n",
      "  * https://github.com/tensorflow/addons\n",
      "If you depend on functionality not listed there, please file an issue.\n",
      "\n"
     ]
    }
   ],
   "source": [
    "# Create a tf.data pipeline using the created image and label lists.\n",
    "\n",
    "# Set the data pipeline parameters\n",
    "BATCH_SIZE = 10\n",
    "SIZE = 512\n",
    "CHANNELS = 3\n",
    "\n",
    "train_filenames = tf.constant(train_image_list)\n",
    "train_labels = tf.constant(train_label_list)\n",
    "\n",
    "valid_filenames = tf.constant(valid_image_list)\n",
    "valid_labels = tf.constant(valid_label_list)\n",
    "\n",
    "def _parse_train(filename,label):\n",
    "  # Read the image from disk\n",
    "  image_string = tf.read_file(filename)\n",
    "  # Decode the image\n",
    "  image = tf.image.decode_png(image_string,channels=CHANNELS)\n",
    "  # Flip the image horizontally\n",
    "  image = tf.image.flip_left_right(image)\n",
    "  # Rotations\n",
    "  # image = tf.contrib.image.rotate(image,angles=30)\n",
    "  # image = tf.contrib.image.rotate(image,angles=np.random.choice([0,10,350,20,340,30,330],size=1))\n",
    "  image = tf.contrib.image.rotate(image, tf.random_uniform(shape=[1], minval=-0.5, maxval=0.5, seed=7), interpolation='BILINEAR')\n",
    "  # Resize into 512x512 images\n",
    "  image = tf.image.resize_image_with_crop_or_pad(image,SIZE,SIZE)\n",
    "  return (image, label)\n",
    "\n",
    "def _parse_valid(filename,label):\n",
    "  # Read the image from disk\n",
    "  image_string = tf.read_file(filename)\n",
    "  # Decode the image\n",
    "  image = tf.image.decode_png(image_string,channels=CHANNELS)\n",
    "  # Resize into 512x512 images\n",
    "  image = tf.image.resize_image_with_crop_or_pad(image,SIZE,SIZE)\n",
    "  return (image, label)\n",
    "\n",
    "# Train dataset pipeline\n",
    "train_dataset = tf.data.Dataset.from_tensor_slices((train_filenames,train_labels))\n",
    "train_dataset = train_dataset.map(_parse_train)\n",
    "train_dataset = train_dataset.batch(BATCH_SIZE).shuffle(buffer_size=10).repeat().prefetch(1)\n",
    "\n",
    "# Validation dataset pipeline\n",
    "valid_dataset = tf.data.Dataset.from_tensor_slices((valid_filenames,valid_labels))\n",
    "valid_dataset = valid_dataset.map(_parse_valid)\n",
    "valid_dataset = valid_dataset.batch(BATCH_SIZE).repeat().prefetch(1)"
   ]
  },
  {
   "cell_type": "code",
   "execution_count": 0,
   "metadata": {
    "colab": {},
    "colab_type": "code",
    "id": "oSSzln3vZP2A"
   },
   "outputs": [],
   "source": [
    "# Create an iterator to test our pipeline\n",
    "iterator = train_dataset.make_initializable_iterator()\n",
    "\n",
    "# Initialize the iterator\n",
    "sess.run(iterator.initializer)"
   ]
  },
  {
   "cell_type": "code",
   "execution_count": 0,
   "metadata": {
    "colab": {},
    "colab_type": "code",
    "id": "ohE_lfocdjR-"
   },
   "outputs": [],
   "source": [
    "# Get a pair of an image and label\n",
    "test_image, test_label = sess.run(iterator.get_next())"
   ]
  },
  {
   "cell_type": "code",
   "execution_count": 0,
   "metadata": {
    "colab": {
     "base_uri": "https://localhost:8080/",
     "height": 34
    },
    "colab_type": "code",
    "id": "vm6KgZu--FJL",
    "outputId": "3b78aa27-7579-4354-c368-5ac52a69b1c6"
   },
   "outputs": [
    {
     "data": {
      "text/plain": [
       "(10, 512, 512, 3)"
      ]
     },
     "execution_count": 19,
     "metadata": {
      "tags": []
     },
     "output_type": "execute_result"
    }
   ],
   "source": [
    "test_image.shape"
   ]
  },
  {
   "cell_type": "code",
   "execution_count": 0,
   "metadata": {
    "colab": {
     "base_uri": "https://localhost:8080/",
     "height": 286
    },
    "colab_type": "code",
    "id": "7MzbQKeAbuky",
    "outputId": "57458d83-335f-46ba-9835-1b29df194c0a"
   },
   "outputs": [
    {
     "name": "stdout",
     "output_type": "stream",
     "text": [
      "Label for the image - 0\n"
     ]
    },
    {
     "data": {
      "image/png": "[encoded data removed]",
      "text/plain": [
       "<Figure size 432x288 with 1 Axes>"
      ]
     },
     "metadata": {
      "tags": []
     },
     "output_type": "display_data"
    }
   ],
   "source": [
    "# Display the image\n",
    "plt.imshow(test_image[0])\n",
    "plt.plot()\n",
    "print(\"Label for the image -\",test_label[0])"
   ]
  },
  {
   "cell_type": "markdown",
   "metadata": {
    "colab_type": "text",
    "id": "KOH3IXJCui9f"
   },
   "source": [
    "## Trying out a VGG16 base model with pretrained ImageNet weights\n",
    "To do:\n",
    "1. Import the pretrained VGG16 model from Keras. - DONE\n",
    "2. Change/add the last dense layer in VGG16 to finally have one 1 neuron(normal/abnormal) instead of 1000 neurons required in the ImageNet challenge. - DONE\n",
    "3. Freeze the VGG16 layers to prevent large gradient update from ruining the important features. - DONE\n",
    "4. Train the model - <b>Fix constant train acc/loss and very volatile valid acc/loss - DONE</b>\n",
    "5. Get a baseline accuracy.  Validation accuracy on vanilla VGG16 = 76%\n",
    "6. Finetune model\n",
    "7. Get the finetuned accuracy."
   ]
  },
  {
   "cell_type": "code",
   "execution_count": 0,
   "metadata": {
    "colab": {},
    "colab_type": "code",
    "id": "Zriy3dk_o3SG"
   },
   "outputs": [],
   "source": [
    "#del VGG16_model"
   ]
  },
  {
   "cell_type": "code",
   "execution_count": 0,
   "metadata": {
    "colab": {},
    "colab_type": "code",
    "id": "7kXuwrMTuiSq"
   },
   "outputs": [],
   "source": [
    "# Import the pretrained VGG16 model from Keras\n",
    "from keras.applications import VGG16\n",
    "\n",
    "conv_base = VGG16(weights='imagenet',include_top=False,input_shape=(SIZE,SIZE,3))"
   ]
  },
  {
   "cell_type": "code",
   "execution_count": 0,
   "metadata": {
    "colab": {
     "base_uri": "https://localhost:8080/",
     "height": 782
    },
    "colab_type": "code",
    "id": "EzjQwKp5x3Dm",
    "outputId": "d282548e-4cd1-4458-b774-b0a2c3aa6404"
   },
   "outputs": [
    {
     "name": "stdout",
     "output_type": "stream",
     "text": [
      "_________________________________________________________________\n",
      "Layer (type)                 Output Shape              Param #   \n",
      "=================================================================\n",
      "input_2 (InputLayer)         (None, 512, 512, 3)       0         \n",
      "_________________________________________________________________\n",
      "block1_conv1 (Conv2D)        (None, 512, 512, 64)      1792      \n",
      "_________________________________________________________________\n",
      "block1_conv2 (Conv2D)        (None, 512, 512, 64)      36928     \n",
      "_________________________________________________________________\n",
      "block1_pool (MaxPooling2D)   (None, 256, 256, 64)      0         \n",
      "_________________________________________________________________\n",
      "block2_conv1 (Conv2D)        (None, 256, 256, 128)     73856     \n",
      "_________________________________________________________________\n",
      "block2_conv2 (Conv2D)        (None, 256, 256, 128)     147584    \n",
      "_________________________________________________________________\n",
      "block2_pool (MaxPooling2D)   (None, 128, 128, 128)     0         \n",
      "_________________________________________________________________\n",
      "block3_conv1 (Conv2D)        (None, 128, 128, 256)     295168    \n",
      "_________________________________________________________________\n",
      "block3_conv2 (Conv2D)        (None, 128, 128, 256)     590080    \n",
      "_________________________________________________________________\n",
      "block3_conv3 (Conv2D)        (None, 128, 128, 256)     590080    \n",
      "_________________________________________________________________\n",
      "block3_pool (MaxPooling2D)   (None, 64, 64, 256)       0         \n",
      "_________________________________________________________________\n",
      "block4_conv1 (Conv2D)        (None, 64, 64, 512)       1180160   \n",
      "_________________________________________________________________\n",
      "block4_conv2 (Conv2D)        (None, 64, 64, 512)       2359808   \n",
      "_________________________________________________________________\n",
      "block4_conv3 (Conv2D)        (None, 64, 64, 512)       2359808   \n",
      "_________________________________________________________________\n",
      "block4_pool (MaxPooling2D)   (None, 32, 32, 512)       0         \n",
      "_________________________________________________________________\n",
      "block5_conv1 (Conv2D)        (None, 32, 32, 512)       2359808   \n",
      "_________________________________________________________________\n",
      "block5_conv2 (Conv2D)        (None, 32, 32, 512)       2359808   \n",
      "_________________________________________________________________\n",
      "block5_conv3 (Conv2D)        (None, 32, 32, 512)       2359808   \n",
      "_________________________________________________________________\n",
      "block5_pool (MaxPooling2D)   (None, 16, 16, 512)       0         \n",
      "=================================================================\n",
      "Total params: 14,714,688\n",
      "Trainable params: 14,714,688\n",
      "Non-trainable params: 0\n",
      "_________________________________________________________________\n"
     ]
    }
   ],
   "source": [
    "# Our base VGG16 model with imagenet weights\n",
    "conv_base.summary()"
   ]
  },
  {
   "cell_type": "code",
   "execution_count": 0,
   "metadata": {
    "colab": {
     "base_uri": "https://localhost:8080/",
     "height": 306
    },
    "colab_type": "code",
    "id": "q1BitUY-yTB5",
    "outputId": "15bc2d7d-bfcc-4ccc-9a4c-2d5e4b3f72e6"
   },
   "outputs": [
    {
     "name": "stdout",
     "output_type": "stream",
     "text": [
      "_________________________________________________________________\n",
      "Layer (type)                 Output Shape              Param #   \n",
      "=================================================================\n",
      "batch_normalization_2 (Batch (None, 512, 512, 3)       12        \n",
      "_________________________________________________________________\n",
      "vgg16 (Model)                (None, 16, 16, 512)       14714688  \n",
      "_________________________________________________________________\n",
      "global_average_pooling2d_2 ( (None, 512)               0         \n",
      "_________________________________________________________________\n",
      "dense_3 (Dense)              (None, 256)               131328    \n",
      "_________________________________________________________________\n",
      "dense_4 (Dense)              (None, 1)                 257       \n",
      "=================================================================\n",
      "Total params: 14,846,285\n",
      "Trainable params: 131,591\n",
      "Non-trainable params: 14,714,694\n",
      "_________________________________________________________________\n"
     ]
    }
   ],
   "source": [
    "# Add 2 dense layers to the VGG16 model so that we get a sigmoid output\n",
    "from keras import models\n",
    "from keras import layers\n",
    "from keras import optimizers\n",
    "\n",
    "VGG16_model = models.Sequential()\n",
    "\n",
    "# Freeze the original VGG16 layer weights\n",
    "conv_base.trainable = False\n",
    "\n",
    "VGG16_model.add(layers.BatchNormalization(axis=-1,center=True,scale=True,input_shape=(SIZE,SIZE,3)))\n",
    "VGG16_model.add(conv_base)\n",
    "VGG16_model.add(layers.pooling.GlobalAveragePooling2D())\n",
    "#VGG16_model.add(layers.Flatten())\n",
    "VGG16_model.add(layers.Dense(256,activation='relu'))\n",
    "VGG16_model.add(layers.Dense(1,activation='sigmoid'))\n",
    "\n",
    "VGG16_model.compile(loss='binary_crossentropy',optimizer=optimizers.Adam(lr=0.0001),metrics=['acc'])\n",
    "\n",
    "# The model summary after freezing original VGG16 weights and adding our 2 dense layers\n",
    "VGG16_model.summary()"
   ]
  },
  {
   "cell_type": "code",
   "execution_count": 0,
   "metadata": {
    "colab": {
     "base_uri": "https://localhost:8080/",
     "height": 34
    },
    "colab_type": "code",
    "id": "halCDOBJdanN",
    "outputId": "7bda8bfd-4cad-4d32-8bc6-1baddaca6f55"
   },
   "outputs": [
    {
     "name": "stderr",
     "output_type": "stream",
     "text": [
      "Using TensorFlow backend.\n"
     ]
    }
   ],
   "source": [
    "# Try to create a simple generator using our dataset\n",
    "from keras import backend as K\n",
    "\n",
    "def trainGenData():\n",
    "  # Create an iterator to test our pipeline\n",
    "  iterator = train_dataset.make_one_shot_iterator()\n",
    "  # Next batch\n",
    "  next_batch = iterator.get_next()\n",
    "  while True:\n",
    "    yield K.get_session().run(next_batch)\n",
    "    \n",
    "def validGenData():\n",
    "  # Create an iterator to test our pipeline\n",
    "  iterator = valid_dataset.make_one_shot_iterator()\n",
    "  # Next batch\n",
    "  next_batch = iterator.get_next()\n",
    "  while True:\n",
    "    yield K.get_session().run(next_batch)\n",
    "\n",
    "trainGen = trainGenData()\n",
    "validGen = validGenData()"
   ]
  },
  {
   "cell_type": "code",
   "execution_count": 0,
   "metadata": {
    "colab": {
     "base_uri": "https://localhost:8080/",
     "height": 349
    },
    "colab_type": "code",
    "id": "SMmUi4-CXH9S",
    "outputId": "c11ecb1a-d7bc-4cb6-907a-3a551b63c35e"
   },
   "outputs": [
    {
     "name": "stdout",
     "output_type": "stream",
     "text": [
      "Label 0 count = 2925\n",
      "Label 1 count = 2006\n",
      "Class 0 weight = 0.6858119658119658\n",
      "Class 1 weight = 1.4581256231306081\n"
     ]
    },
    {
     "data": {
      "image/png": "[encoded data removed]",
      "text/plain": [
       "<Figure size 432x288 with 1 Axes>"
      ]
     },
     "metadata": {
      "tags": []
     },
     "output_type": "display_data"
    }
   ],
   "source": [
    "# Check the balance of our class labels\n",
    "plt.hist(train_label_list)\n",
    "plt.title('Check the imbalance of the classes')\n",
    "plt.plot()\n",
    "\n",
    "# Get the counts to set the class weights\n",
    "count_0 = 0\n",
    "count_1 = 0\n",
    "for label in train_label_list:\n",
    "  if label==0:\n",
    "    count_0+=1\n",
    "  else:\n",
    "    count_1+=1\n",
    "\n",
    "print('Label 0 count =',count_0)\n",
    "print('Label 1 count =',count_1)\n",
    "\n",
    "weight_0 = count_1 / count_0\n",
    "weight_1 = count_0 /count_1\n",
    "\n",
    "print('Class 0 weight =',weight_0)\n",
    "print('Class 1 weight =',weight_1)"
   ]
  },
  {
   "cell_type": "markdown",
   "metadata": {
    "colab_type": "text",
    "id": "7IzHgMUc1kqu"
   },
   "source": [
    "## Fitting the model works! Now we need to evaluate the model"
   ]
  },
  {
   "cell_type": "code",
   "execution_count": 0,
   "metadata": {
    "colab": {
     "base_uri": "https://localhost:8080/",
     "height": 697
    },
    "colab_type": "code",
    "id": "-o0y5vzdCj7L",
    "outputId": "d8e98316-9f37-46cb-c2ac-fca1efca708a"
   },
   "outputs": [
    {
     "name": "stdout",
     "output_type": "stream",
     "text": [
      "Epoch 1/20\n",
      "494/493 [==============================] - 406s 821ms/step - loss: 0.6628 - acc: 0.6123 - val_loss: 0.6581 - val_acc: 0.6022\n",
      "Epoch 2/20\n",
      "494/493 [==============================] - 388s 786ms/step - loss: 0.6326 - acc: 0.6638 - val_loss: 0.6239 - val_acc: 0.6602\n",
      "Epoch 3/20\n",
      "494/493 [==============================] - 389s 788ms/step - loss: 0.6070 - acc: 0.6992 - val_loss: 0.5940 - val_acc: 0.7075\n",
      "Epoch 4/20\n",
      "494/493 [==============================] - 389s 787ms/step - loss: 0.5890 - acc: 0.7188 - val_loss: 0.5683 - val_acc: 0.7140\n",
      "Epoch 5/20\n",
      "494/493 [==============================] - 390s 789ms/step - loss: 0.5732 - acc: 0.7312 - val_loss: 0.5504 - val_acc: 0.7312\n",
      "Epoch 6/20\n",
      "494/493 [==============================] - 385s 779ms/step - loss: 0.5596 - acc: 0.7383 - val_loss: 0.5639 - val_acc: 0.6946\n",
      "Epoch 7/20\n",
      "494/493 [==============================] - 379s 766ms/step - loss: 0.5472 - acc: 0.7457 - val_loss: 0.5230 - val_acc: 0.7527\n",
      "Epoch 8/20\n",
      "494/493 [==============================] - 376s 761ms/step - loss: 0.5387 - acc: 0.7516 - val_loss: 0.5151 - val_acc: 0.7527\n",
      "Epoch 9/20\n",
      "494/493 [==============================] - 381s 771ms/step - loss: 0.5335 - acc: 0.7522 - val_loss: 0.5001 - val_acc: 0.7742\n",
      "Epoch 10/20\n",
      "494/493 [==============================] - 376s 761ms/step - loss: 0.5260 - acc: 0.7617 - val_loss: 0.4990 - val_acc: 0.7656\n",
      "Epoch 11/20\n",
      "494/493 [==============================] - 374s 757ms/step - loss: 0.5209 - acc: 0.7634 - val_loss: 0.4909 - val_acc: 0.7613\n",
      "Epoch 12/20\n",
      "494/493 [==============================] - 376s 762ms/step - loss: 0.5161 - acc: 0.7632 - val_loss: 0.4829 - val_acc: 0.7785\n",
      "Epoch 13/20\n",
      "494/493 [==============================] - 375s 758ms/step - loss: 0.5102 - acc: 0.7694 - val_loss: 0.4796 - val_acc: 0.7763\n",
      "Epoch 14/20\n",
      "494/493 [==============================] - 372s 752ms/step - loss: 0.5097 - acc: 0.7684 - val_loss: 0.4833 - val_acc: 0.7634\n",
      "Epoch 15/20\n",
      "494/493 [==============================] - 374s 757ms/step - loss: 0.5032 - acc: 0.7721 - val_loss: 0.4765 - val_acc: 0.7742\n",
      "Epoch 16/20\n",
      "494/493 [==============================] - 372s 752ms/step - loss: 0.5021 - acc: 0.7729 - val_loss: 0.4685 - val_acc: 0.7828\n",
      "Epoch 17/20\n",
      "494/493 [==============================] - 373s 755ms/step - loss: 0.4977 - acc: 0.7706 - val_loss: 0.4670 - val_acc: 0.7828\n",
      "Epoch 18/20\n",
      "494/493 [==============================] - 371s 752ms/step - loss: 0.4940 - acc: 0.7771 - val_loss: 0.4673 - val_acc: 0.7806\n",
      "Epoch 19/20\n",
      "494/493 [==============================] - 372s 754ms/step - loss: 0.4938 - acc: 0.7751 - val_loss: 0.4655 - val_acc: 0.7806\n",
      "Epoch 20/20\n",
      "494/493 [==============================] - 371s 751ms/step - loss: 0.4915 - acc: 0.7802 - val_loss: 0.4709 - val_acc: 0.7677\n"
     ]
    }
   ],
   "source": [
    "# Fit the model using proper generators\n",
    "# Setup callbacks to save the best model and early stopping if val loss doesn't decrease after 2 epochs\n",
    "# https://chrisalbon.com/deep_learning/keras/neural_network_early_stopping/\n",
    "from keras.callbacks import EarlyStopping, ModelCheckpoint\n",
    "\n",
    "# Set callback functions to early stop training and save the best model so far\n",
    "callbacks = [EarlyStopping(monitor='val_loss', patience=3),ModelCheckpoint(filepath='best_model_freezed.h5', monitor='val_acc', save_best_only=True)]\n",
    "\n",
    "# Set the max number of epochs\n",
    "EPOCHS = 20\n",
    "history = VGG16_model.fit_generator(generator=trainGen,steps_per_epoch=len(train_image_list)/BATCH_SIZE,epochs=EPOCHS,validation_data=validGen,validation_steps=len(valid_image_list)/BATCH_SIZE,class_weight=[weight_0,weight_1],workers=0)"
   ]
  },
  {
   "cell_type": "markdown",
   "metadata": {
    "colab_type": "text",
    "id": "XNl_mDveeJZK"
   },
   "source": [
    "Observations:\n",
    "1. The training acc and loss vary just for the first epoch after which they do not change.\n",
    "2. The valiadtion acc and loss are pretty good for the first 4 epochs but down drastically after that.\n",
    "3. Maybe we should use a larger LR.\n",
    "4. <b>We should try the shuffling train_image_list /valid_image_list and train_label_list/valid_label_list after zipping.</b>\n",
    "\n",
    "### Problem fixed by using sklearn.utils.shuffle"
   ]
  },
  {
   "cell_type": "code",
   "execution_count": 0,
   "metadata": {
    "colab": {
     "base_uri": "https://localhost:8080/",
     "height": 295
    },
    "colab_type": "code",
    "id": "h2gPcqioglv1",
    "outputId": "5d1ec17e-6d98-4a51-a18b-acf4c72dcd30"
   },
   "outputs": [
    {
     "data": {
      "image/png": "[encoded data removed]",
      "text/plain": [
       "<Figure size 1152x288 with 2 Axes>"
      ]
     },
     "metadata": {
      "tags": []
     },
     "output_type": "display_data"
    }
   ],
   "source": [
    "# Training plots\n",
    "plt.rcParams[\"figure.figsize\"] = (16,4)\n",
    "\n",
    "train_acc = history.history['acc']\n",
    "valid_acc = history.history['val_acc']\n",
    "train_loss = history.history['loss']\n",
    "valid_loss = history.history['val_loss']\n",
    "\n",
    "plt.subplot(1,2,1)\n",
    "plt.plot(train_acc,label='Training accuracy')\n",
    "plt.plot(valid_acc,label='Validation accuracy')\n",
    "plt.title('Acc graph')\n",
    "plt.legend(loc='lower left')\n",
    "plt.ylabel('Accuracy')\n",
    "plt.xlabel('Epochs')\n",
    "\n",
    "plt.subplot(1,2,2)\n",
    "plt.plot(train_loss,label='Training loss')\n",
    "plt.plot(valid_loss,label='Validation loss')\n",
    "plt.title('Loss graph')\n",
    "plt.legend(loc='lower left')\n",
    "plt.ylabel('Binary Cross-Entropy(Our loss)')\n",
    "plt.xlabel('Epochs')\n",
    "\n",
    "plt.show()"
   ]
  },
  {
   "cell_type": "code",
   "execution_count": 0,
   "metadata": {
    "colab": {},
    "colab_type": "code",
    "id": "3igvOQsCxGsM"
   },
   "outputs": [],
   "source": [
    "# Load the best model\n",
    "from keras.models import load_model\n",
    "VGG16_model = load_model('best_model_freezed.h5')"
   ]
  },
  {
   "cell_type": "markdown",
   "metadata": {
    "colab_type": "text",
    "id": "JPIUpGebqHjS"
   },
   "source": [
    "### To do: Fine tune the model further by unfreezing some layers and re-fitting the model."
   ]
  },
  {
   "cell_type": "markdown",
   "metadata": {
    "colab_type": "text",
    "id": "ql08hnKFV9x9"
   },
   "source": [
    "<i>Manual Testing</i>"
   ]
  },
  {
   "cell_type": "code",
   "execution_count": 0,
   "metadata": {
    "colab": {},
    "colab_type": "code",
    "id": "N3vSX5UKqGeC"
   },
   "outputs": [],
   "source": [
    "manual_test = next(validGen)"
   ]
  },
  {
   "cell_type": "code",
   "execution_count": 0,
   "metadata": {
    "colab": {},
    "colab_type": "code",
    "id": "XdbI_d2RqlR-"
   },
   "outputs": [],
   "source": [
    "manual_test_img = manual_test[0]\n",
    "manual_test_label = manual_test[1]\n",
    "\n",
    "VGG16_model.predict(manual_test_img)"
   ]
  },
  {
   "cell_type": "code",
   "execution_count": 0,
   "metadata": {
    "colab": {},
    "colab_type": "code",
    "id": "KMWddJDYrAUR"
   },
   "outputs": [],
   "source": [
    "manual_test_label"
   ]
  },
  {
   "cell_type": "markdown",
   "metadata": {
    "colab_type": "text",
    "id": "FWlytPiYWFd1"
   },
   "source": [
    "<i>Checks Out!</i>"
   ]
  },
  {
   "cell_type": "markdown",
   "metadata": {
    "colab_type": "text",
    "id": "gyn2YkggWLA0"
   },
   "source": [
    "### Save the model"
   ]
  },
  {
   "cell_type": "code",
   "execution_count": 0,
   "metadata": {
    "colab": {},
    "colab_type": "code",
    "id": "2edSDQrF9Bgq"
   },
   "outputs": [],
   "source": [
    "# Save the model\n",
    "model_json = VGG16_model.to_json()\n",
    "with open(\"VGG16_model_base_architecture.json\", \"w\") as json_file:\n",
    "    json_file.write(model_json)\n",
    "# serialize weights to HDF5\n",
    "VGG16_model.save_weights(\"VGG16_model_base_weights.h5\")\n",
    "print(\"Saved model to disk\")\n",
    "\n",
    "# Download the model files\n",
    "from google.colab import files\n",
    "files.download('VGG16_model_base_architecture.json')\n",
    "files.download('VGG16_model_base_weights.h5')\n",
    "print(\"Downloaded model locally\")"
   ]
  },
  {
   "cell_type": "code",
   "execution_count": 0,
   "metadata": {
    "colab": {},
    "colab_type": "code",
    "id": "ucnPy1XAE0X2"
   },
   "outputs": [],
   "source": [
    "# Get predictions from our model\n",
    "predictions = VGG16_model.predict_generator(validGen,steps=len(valid_image_list)/BATCH_SIZE,workers=0)"
   ]
  },
  {
   "cell_type": "code",
   "execution_count": 0,
   "metadata": {
    "colab": {},
    "colab_type": "code",
    "id": "8M5KIfm1Oeeg"
   },
   "outputs": [],
   "source": [
    "# Get binary predictions using a threshold\n",
    "threshold = 0.5\n",
    "for pred in predictions.T.tolist():\n",
    "  predictions = pred\n",
    "  \n",
    "predictions_binary = []\n",
    "\n",
    "for prediction in predictions:\n",
    "  if prediction < threshold:\n",
    "    predictions_binary.append(0)\n",
    "  else:\n",
    "    predictions_binary.append(1)\n",
    "\n",
    "#predictions_binary"
   ]
  },
  {
   "cell_type": "code",
   "execution_count": 0,
   "metadata": {
    "colab": {
     "base_uri": "https://localhost:8080/",
     "height": 170
    },
    "colab_type": "code",
    "id": "LvyZ3kpHRkeg",
    "outputId": "0cc2324c-71f1-459a-a07f-65cfe2cac30a"
   },
   "outputs": [
    {
     "name": "stdout",
     "output_type": "stream",
     "text": [
      "              precision    recall  f1-score   support\n",
      "\n",
      "           0       0.94      0.70      0.80       317\n",
      "           1       0.59      0.91      0.71       148\n",
      "\n",
      "   micro avg       0.77      0.77      0.77       465\n",
      "   macro avg       0.77      0.81      0.76       465\n",
      "weighted avg       0.83      0.77      0.78       465\n",
      "\n"
     ]
    }
   ],
   "source": [
    "# Get the classification report\n",
    "from sklearn.metrics import classification_report\n",
    "\n",
    "report = classification_report(predictions_binary,valid_label_list)\n",
    "print(report)"
   ]
  },
  {
   "cell_type": "code",
   "execution_count": 0,
   "metadata": {
    "colab": {
     "base_uri": "https://localhost:8080/",
     "height": 34
    },
    "colab_type": "code",
    "id": "VIBUQ62aFkxS",
    "outputId": "04342244-0214-46fc-f6de-47ee3dbc5cd2"
   },
   "outputs": [
    {
     "data": {
      "text/plain": [
       "0.5336614356021914"
      ]
     },
     "execution_count": 56,
     "metadata": {
      "tags": []
     },
     "output_type": "execute_result"
    }
   ],
   "source": [
    "# Try to calculate Cohen's Kappa score\n",
    "# In practice we need to compute this score on studies instead of individual images\n",
    "from sklearn.metrics import cohen_kappa_score\n",
    "\n",
    "cohen_kappa_score(predictions_binary,valid_label_list)"
   ]
  },
  {
   "cell_type": "code",
   "execution_count": 0,
   "metadata": {
    "colab": {
     "base_uri": "https://localhost:8080/",
     "height": 458
    },
    "colab_type": "code",
    "id": "OeI9L5EXpe7R",
    "outputId": "0e1aa615-cd04-46c4-ede0-082ddcd9e0a2"
   },
   "outputs": [
    {
     "data": {
      "image/png": "[encoded data removed]",
      "text/plain": [
       "<Figure size 504x504 with 1 Axes>"
      ]
     },
     "metadata": {
      "tags": []
     },
     "output_type": "display_data"
    }
   ],
   "source": [
    "# Plot ROC curve\n",
    "plt.rcParams[\"figure.figsize\"] = (7,7)\n",
    "from sklearn.metrics import roc_curve, roc_auc_score\n",
    "\n",
    "fpr, tpr, thresholds = roc_curve(valid_label_list,predictions)\n",
    "auc_score = roc_auc_score(valid_label_list,predictions)\n",
    "\n",
    "plt.plot(fpr,tpr,label='VGG16 model after finetuning')\n",
    "plt.plot(fpr,fpr,label='Random guessing')\n",
    "plt.title('ROC score of VGG16 = %2.2f'%auc_score)\n",
    "plt.xlabel('False Positive Rate')\n",
    "plt.ylabel('True Positive Rate')\n",
    "plt.legend()\n",
    "\n",
    "plt.show()"
   ]
  },
  {
   "cell_type": "markdown",
   "metadata": {
    "colab_type": "text",
    "id": "oKyCLvW63Gq0"
   },
   "source": [
    "## To do further fine-tuing by unfreezing and retraining"
   ]
  },
  {
   "cell_type": "code",
   "execution_count": 0,
   "metadata": {
    "colab": {
     "base_uri": "https://localhost:8080/",
     "height": 34
    },
    "colab_type": "code",
    "id": "K4mOQkMFGP7S",
    "outputId": "9bee4959-d2cf-4890-88ac-e2f20cf2ec26"
   },
   "outputs": [
    {
     "name": "stdout",
     "output_type": "stream",
     "text": [
      "Number of layers = 19\n"
     ]
    }
   ],
   "source": [
    "# Number of layers in our VGG16 conv base\n",
    "print('Number of layers =',len(conv_base.layers))"
   ]
  },
  {
   "cell_type": "code",
   "execution_count": 0,
   "metadata": {
    "colab": {},
    "colab_type": "code",
    "id": "kwtm8CJsGdQZ"
   },
   "outputs": [],
   "source": [
    "# Try to unfreeze the top 10 layers and train with a smaller learning rate\n",
    "conv_base.trainable = True\n",
    "\n",
    "fine_tune_at = 11\n",
    "\n",
    "for layer in conv_base.layers[:fine_tune_at]:\n",
    "  layer.trainable = False"
   ]
  },
  {
   "cell_type": "code",
   "execution_count": 0,
   "metadata": {
    "colab": {
     "base_uri": "https://localhost:8080/",
     "height": 306
    },
    "colab_type": "code",
    "id": "RS5cO_8hI9Yx",
    "outputId": "85645af3-737f-48c9-df09-cabe5208100a"
   },
   "outputs": [
    {
     "name": "stdout",
     "output_type": "stream",
     "text": [
      "_________________________________________________________________\n",
      "Layer (type)                 Output Shape              Param #   \n",
      "=================================================================\n",
      "batch_normalization_2 (Batch (None, 512, 512, 3)       12        \n",
      "_________________________________________________________________\n",
      "vgg16 (Model)                (None, 16, 16, 512)       14714688  \n",
      "_________________________________________________________________\n",
      "global_average_pooling2d_2 ( (None, 512)               0         \n",
      "_________________________________________________________________\n",
      "dense_3 (Dense)              (None, 256)               131328    \n",
      "_________________________________________________________________\n",
      "dense_4 (Dense)              (None, 1)                 257       \n",
      "=================================================================\n",
      "Total params: 14,846,285\n",
      "Trainable params: 13,110,791\n",
      "Non-trainable params: 1,735,494\n",
      "_________________________________________________________________\n"
     ]
    }
   ],
   "source": [
    "# Recompile the model\n",
    "VGG16_model.compile(loss='binary_crossentropy',optimizer=optimizers.Adam(lr=2e-5),metrics=['acc'])\n",
    "VGG16_model.summary()"
   ]
  },
  {
   "cell_type": "code",
   "execution_count": 0,
   "metadata": {
    "colab": {
     "base_uri": "https://localhost:8080/",
     "height": 697
    },
    "colab_type": "code",
    "id": "yqO031vJJQZ3",
    "outputId": "43edf29b-cc4b-47f9-f96a-4e41ef2f1ef5"
   },
   "outputs": [
    {
     "name": "stdout",
     "output_type": "stream",
     "text": [
      "Epoch 1/20\n",
      "494/493 [==============================] - 400s 811ms/step - loss: 0.4930 - acc: 0.7767 - val_loss: 0.4057 - val_acc: 0.8323\n",
      "Epoch 2/20\n",
      "494/493 [==============================] - 402s 813ms/step - loss: 0.4210 - acc: 0.8227 - val_loss: 0.3954 - val_acc: 0.8301\n",
      "Epoch 3/20\n",
      "494/493 [==============================] - 399s 808ms/step - loss: 0.3860 - acc: 0.8320 - val_loss: 0.3933 - val_acc: 0.8086\n",
      "Epoch 4/20\n",
      "494/493 [==============================] - 400s 810ms/step - loss: 0.3642 - acc: 0.8462 - val_loss: 0.3746 - val_acc: 0.8409\n",
      "Epoch 5/20\n",
      "494/493 [==============================] - 400s 809ms/step - loss: 0.3342 - acc: 0.8644 - val_loss: 0.3867 - val_acc: 0.8344\n",
      "Epoch 6/20\n",
      "494/493 [==============================] - 400s 809ms/step - loss: 0.3054 - acc: 0.8759 - val_loss: 0.4064 - val_acc: 0.8129\n",
      "Epoch 7/20\n",
      "494/493 [==============================] - 399s 809ms/step - loss: 0.2835 - acc: 0.8842 - val_loss: 0.4539 - val_acc: 0.8237\n",
      "Epoch 8/20\n",
      "494/493 [==============================] - 400s 809ms/step - loss: 0.2714 - acc: 0.8866 - val_loss: 0.4067 - val_acc: 0.8538\n",
      "Epoch 9/20\n",
      "494/493 [==============================] - 399s 809ms/step - loss: 0.2365 - acc: 0.9061 - val_loss: 0.4834 - val_acc: 0.8172\n",
      "Epoch 10/20\n",
      "494/493 [==============================] - 400s 809ms/step - loss: 0.2220 - acc: 0.9095 - val_loss: 0.4237 - val_acc: 0.8430\n",
      "Epoch 11/20\n",
      "494/493 [==============================] - 399s 807ms/step - loss: 0.1873 - acc: 0.9245 - val_loss: 0.4816 - val_acc: 0.8280\n",
      "Epoch 12/20\n",
      "494/493 [==============================] - 399s 807ms/step - loss: 0.1725 - acc: 0.9302 - val_loss: 0.4418 - val_acc: 0.8430\n",
      "Epoch 13/20\n",
      "494/493 [==============================] - 398s 805ms/step - loss: 0.1603 - acc: 0.9362 - val_loss: 0.4475 - val_acc: 0.8344\n",
      "Epoch 14/20\n",
      "494/493 [==============================] - 398s 805ms/step - loss: 0.1521 - acc: 0.9401 - val_loss: 0.4933 - val_acc: 0.8151\n",
      "Epoch 15/20\n",
      "494/493 [==============================] - 398s 805ms/step - loss: 0.1232 - acc: 0.9522 - val_loss: 0.4873 - val_acc: 0.8495\n",
      "Epoch 16/20\n",
      "494/493 [==============================] - 397s 804ms/step - loss: 0.1297 - acc: 0.9488 - val_loss: 0.5375 - val_acc: 0.8452\n",
      "Epoch 17/20\n",
      "494/493 [==============================] - 397s 803ms/step - loss: 0.0973 - acc: 0.9638 - val_loss: 0.6411 - val_acc: 0.8258\n",
      "Epoch 18/20\n",
      "494/493 [==============================] - 397s 804ms/step - loss: 0.1138 - acc: 0.9595 - val_loss: 0.5579 - val_acc: 0.8344\n",
      "Epoch 19/20\n",
      "494/493 [==============================] - 398s 806ms/step - loss: 0.0885 - acc: 0.9640 - val_loss: 0.6107 - val_acc: 0.8344\n",
      "Epoch 20/20\n",
      "494/493 [==============================] - 397s 804ms/step - loss: 0.0911 - acc: 0.9658 - val_loss: 0.5609 - val_acc: 0.8495\n"
     ]
    }
   ],
   "source": [
    "# Re-fit the model\n",
    "# Fit the model using a very small learning rate to avoid ruining nice learnt features due to strong gradients\n",
    "\n",
    "# Setup callbacks to save the best model and early stopping if val loss doesn't decrease after 2 epochs\n",
    "# https://chrisalbon.com/deep_learning/keras/neural_network_early_stopping/\n",
    "from keras.callbacks import EarlyStopping, ModelCheckpoint\n",
    "\n",
    "# Set callback functions to early stop training and save the best model so far\n",
    "callbacks = [EarlyStopping(monitor='val_loss', patience=2),ModelCheckpoint(filepath='best_model_unfreezed.h5', monitor='val_acc', save_best_only=True)]\n",
    "\n",
    "# Set the max number of epochs\n",
    "EPOCHS = 20\n",
    "history = VGG16_model.fit_generator(generator=trainGen,steps_per_epoch=len(train_image_list)/BATCH_SIZE,epochs=EPOCHS,validation_data=validGen,validation_steps=len(valid_image_list)/BATCH_SIZE,class_weight=[weight_0,weight_1],workers=0)"
   ]
  },
  {
   "cell_type": "code",
   "execution_count": 0,
   "metadata": {
    "colab": {
     "base_uri": "https://localhost:8080/",
     "height": 295
    },
    "colab_type": "code",
    "id": "AI8j5_ynZCF5",
    "outputId": "bbfd3bf7-ca01-4cb1-a605-02a9ad2bde31"
   },
   "outputs": [
    {
     "data": {
      "image/png": "[encoded data removed]",
      "text/plain": [
       "<Figure size 1152x288 with 2 Axes>"
      ]
     },
     "metadata": {
      "tags": []
     },
     "output_type": "display_data"
    }
   ],
   "source": [
    "# Training plots\n",
    "plt.rcParams[\"figure.figsize\"] = (16,4)\n",
    "\n",
    "train_acc = history.history['acc']\n",
    "valid_acc = history.history['val_acc']\n",
    "train_loss = history.history['loss']\n",
    "valid_loss = history.history['val_loss']\n",
    "\n",
    "plt.subplot(1,2,1)\n",
    "plt.plot(train_acc,label='Training accuracy')\n",
    "plt.plot(valid_acc,label='Validation accuracy')\n",
    "plt.title('Acc graph')\n",
    "plt.legend(loc='lower left')\n",
    "plt.ylabel('Accuracy')\n",
    "plt.xlabel('Epochs')\n",
    "\n",
    "plt.subplot(1,2,2)\n",
    "plt.plot(train_loss,label='Training loss')\n",
    "plt.plot(valid_loss,label='Validation loss')\n",
    "plt.title('Loss graph')\n",
    "plt.legend(loc='lower left')\n",
    "plt.ylabel('Binary Cross-Entropy(Our loss)')\n",
    "plt.xlabel('Epochs')\n",
    "\n",
    "plt.show()"
   ]
  },
  {
   "cell_type": "code",
   "execution_count": 0,
   "metadata": {
    "colab": {},
    "colab_type": "code",
    "id": "JmHDG1IPQMZF"
   },
   "outputs": [],
   "source": [
    "# Load the best model\n",
    "from keras.models import load_model\n",
    "VGG16_model = load_model('best_model_unfreezed.h5')"
   ]
  },
  {
   "cell_type": "code",
   "execution_count": 0,
   "metadata": {
    "colab": {
     "base_uri": "https://localhost:8080/",
     "height": 34
    },
    "colab_type": "code",
    "id": "tVZTGroqQdjN",
    "outputId": "e89fa3ac-e7c6-402e-bfae-05c981879431"
   },
   "outputs": [
    {
     "name": "stdout",
     "output_type": "stream",
     "text": [
      "Saved model to disk\n"
     ]
    }
   ],
   "source": [
    "# Save the model\n",
    "model_json = VGG16_model.to_json()\n",
    "with open(\"VGG16_model_finetuned_architecture.json\", \"w\") as json_file:\n",
    "    json_file.write(model_json)\n",
    "# serialize weights to HDF5\n",
    "VGG16_model.save_weights(\"VGG16_model_finetuned_weights.h5\")\n",
    "print(\"Saved model to disk\")"
   ]
  },
  {
   "cell_type": "code",
   "execution_count": 0,
   "metadata": {
    "colab": {
     "base_uri": "https://localhost:8080/",
     "height": 51
    },
    "colab_type": "code",
    "id": "btZ3_v8xZmVC",
    "outputId": "b92ae0e2-8f67-467a-aa63-246f3a0942cc"
   },
   "outputs": [
    {
     "name": "stdout",
     "output_type": "stream",
     "text": [
      "Evaluation loss = 0.5608825777126576\n",
      "Evaluation accuracy = 84.9462361745937\n"
     ]
    }
   ],
   "source": [
    "# Try to evaluate our model at this stage before unfreezing some VGG layers and then re-fitting our model\n",
    "evaluation = VGG16_model.evaluate_generator(generator=validGen,steps=len(valid_image_list)/BATCH_SIZE,workers=0)\n",
    "print('Evaluation loss =',evaluation[0])\n",
    "print('Evaluation accuracy =',evaluation[1]*100)"
   ]
  },
  {
   "cell_type": "markdown",
   "metadata": {
    "colab_type": "text",
    "id": "7Lj7SHVzBa9-"
   },
   "source": [
    "<i>Save model to google drive</i>"
   ]
  },
  {
   "cell_type": "code",
   "execution_count": 0,
   "metadata": {
    "colab": {
     "base_uri": "https://localhost:8080/",
     "height": 34
    },
    "colab_type": "code",
    "id": "578Wijpx9mcU",
    "outputId": "1a06c90f-85bd-461a-c362-1d40ab4a2e87"
   },
   "outputs": [
    {
     "data": {
      "text/plain": [
       "GoogleDriveFile({'id': '1aQiuYR7H-EhYyuD3znlihxHL0upAR6p_'})"
      ]
     },
     "execution_count": 67,
     "metadata": {
      "tags": []
     },
     "output_type": "execute_result"
    }
   ],
   "source": [
    "!pip install -U -q PyDrive\n",
    "from pydrive.auth import GoogleAuth\n",
    "from pydrive.drive import GoogleDrive\n",
    "from google.colab import auth\n",
    "from oauth2client.client import GoogleCredentials\n",
    "\n",
    "# 1. Authenticate and create the PyDrive client.\n",
    "auth.authenticate_user()\n",
    "gauth = GoogleAuth()\n",
    "gauth.credentials = GoogleCredentials.get_application_default()\n",
    "drive = GoogleDrive(gauth)\n",
    "\n",
    "# 2. Save Keras Model or weights on google drive\n",
    "\n",
    "# create on Colab directory\n",
    "VGG16_model.save('VGG16_finetuned.h5')    \n",
    "model_file = drive.CreateFile({'title' : 'VGG16_finetuned.h5'})\n",
    "model_file.SetContentFile('VGG16_finetuned.h5')\n",
    "model_file.Upload()\n",
    "\n",
    "# download to google drive\n",
    "drive.CreateFile({'id': model_file.get('id')})"
   ]
  },
  {
   "cell_type": "markdown",
   "metadata": {
    "colab_type": "text",
    "id": "BkqqFqXErqL0"
   },
   "source": [
    "#### Get predictions for further metrics"
   ]
  },
  {
   "cell_type": "code",
   "execution_count": 0,
   "metadata": {
    "colab": {},
    "colab_type": "code",
    "id": "HNSVdKFCZvxi"
   },
   "outputs": [],
   "source": [
    "# Get predictions from our model\n",
    "predictions = VGG16_model.predict_generator(validGen,steps=len(valid_image_list)/BATCH_SIZE,workers=0)"
   ]
  },
  {
   "cell_type": "code",
   "execution_count": 0,
   "metadata": {
    "colab": {},
    "colab_type": "code",
    "id": "ca97v62AZvxl"
   },
   "outputs": [],
   "source": [
    "# Get binary predictions using a threshold\n",
    "threshold = 0.5\n",
    "for pred in predictions.T.tolist():\n",
    "  predictions = pred\n",
    "  \n",
    "predictions_binary = []\n",
    "\n",
    "for prediction in predictions:\n",
    "  if prediction < threshold:\n",
    "    predictions_binary.append(0)\n",
    "  else:\n",
    "    predictions_binary.append(1)\n",
    "\n",
    "#predictions_binary"
   ]
  },
  {
   "cell_type": "code",
   "execution_count": 0,
   "metadata": {
    "colab": {
     "base_uri": "https://localhost:8080/",
     "height": 170
    },
    "colab_type": "code",
    "id": "dTOLBGy6Zvxo",
    "outputId": "e091e612-7e22-478f-cdc1-1f232349d3aa"
   },
   "outputs": [
    {
     "name": "stdout",
     "output_type": "stream",
     "text": [
      "              precision    recall  f1-score   support\n",
      "\n",
      "           0       0.88      0.83      0.85       247\n",
      "           1       0.82      0.87      0.84       218\n",
      "\n",
      "   micro avg       0.85      0.85      0.85       465\n",
      "   macro avg       0.85      0.85      0.85       465\n",
      "weighted avg       0.85      0.85      0.85       465\n",
      "\n"
     ]
    }
   ],
   "source": [
    "# Get the classification report\n",
    "from sklearn.metrics import classification_report\n",
    "\n",
    "report = classification_report(predictions_binary,valid_label_list)\n",
    "print(report)"
   ]
  },
  {
   "cell_type": "code",
   "execution_count": 0,
   "metadata": {
    "colab": {
     "base_uri": "https://localhost:8080/",
     "height": 458
    },
    "colab_type": "code",
    "id": "2T6A-YZWzEDC",
    "outputId": "450227cf-8ba3-444a-c55b-2b678831fe1a"
   },
   "outputs": [
    {
     "data": {
      "image/png": "[encoded data removed]",
      "text/plain": [
       "<Figure size 504x504 with 1 Axes>"
      ]
     },
     "metadata": {
      "tags": []
     },
     "output_type": "display_data"
    }
   ],
   "source": [
    "# Plot ROC curve\n",
    "plt.rcParams[\"figure.figsize\"] = (7,7)\n",
    "from sklearn.metrics import roc_curve, roc_auc_score\n",
    "\n",
    "fpr, tpr, thresholds = roc_curve(valid_label_list,predictions)\n",
    "auc_score = roc_auc_score(valid_label_list,predictions)\n",
    "\n",
    "plt.plot(fpr,tpr,label='VGG16 model after finetuning')\n",
    "plt.plot(fpr,fpr,label='Random guessing')\n",
    "plt.title('ROC score of VGG16 = %2.2f'%auc_score)\n",
    "plt.xlabel('False Positive Rate')\n",
    "plt.ylabel('True Positive Rate')\n",
    "plt.legend()\n",
    "\n",
    "plt.show()"
   ]
  },
  {
   "cell_type": "markdown",
   "metadata": {
    "colab_type": "text",
    "id": "oN1O97R11MVz"
   },
   "source": [
    "## Add some dropout and try to further fit the model"
   ]
  },
  {
   "cell_type": "code",
   "execution_count": 0,
   "metadata": {
    "colab": {
     "base_uri": "https://localhost:8080/",
     "height": 445
    },
    "colab_type": "code",
    "id": "l5hB4qmd11M-",
    "outputId": "85c0992a-fdb0-4e30-93b9-3cc01ccbfab3"
   },
   "outputs": [
    {
     "name": "stdout",
     "output_type": "stream",
     "text": [
      "_________________________________________________________________\n",
      "Layer (type)                 Output Shape              Param #   \n",
      "=================================================================\n",
      "batch_normalization_2_input  (None, 512, 512, 3)       0         \n",
      "_________________________________________________________________\n",
      "batch_normalization_2 (Batch (None, 512, 512, 3)       12        \n",
      "_________________________________________________________________\n",
      "vgg16 (Model)                (None, 16, 16, 512)       14714688  \n",
      "_________________________________________________________________\n",
      "global_average_pooling2d_2 ( (None, 512)               0         \n",
      "_________________________________________________________________\n",
      "dropout_3 (Dropout)          (None, 512)               0         \n",
      "_________________________________________________________________\n",
      "dense_3 (Dense)              (None, 256)               131328    \n",
      "_________________________________________________________________\n",
      "dropout_4 (Dropout)          (None, 256)               0         \n",
      "_________________________________________________________________\n",
      "dense_4 (Dense)              (None, 1)                 257       \n",
      "=================================================================\n",
      "Total params: 14,846,285\n",
      "Trainable params: 13,110,791\n",
      "Non-trainable params: 1,735,494\n",
      "_________________________________________________________________\n"
     ]
    },
    {
     "name": "stderr",
     "output_type": "stream",
     "text": [
      "/usr/local/lib/python3.6/dist-packages/ipykernel_launcher.py:22: UserWarning: Update your `Model` call to the Keras 2 API: `Model(inputs=Tensor(\"ba..., outputs=Tensor(\"de...)`\n"
     ]
    }
   ],
   "source": [
    "# Add dropout between the flatten - fc1 and fc1 - fc2 layers\n",
    "# https://stackoverflow.com/questions/42475381/add-dropout-layers-between-pretrained-dense-layers-in-keras\n",
    "from keras.layers import Dropout\n",
    "from keras.models import Model\n",
    "\n",
    "#VGG16_best.layers[:-2]\n",
    "\n",
    "# Define the dropout layers\n",
    "dropout1 = Dropout(rate=0.1)\n",
    "dropout2 = Dropout(rate=0.1)\n",
    "\n",
    "# Store the previous layers\n",
    "till_pooling = VGG16_model.layers[-3]\n",
    "second_last_dense_layer = VGG16_model.layers[-2]\n",
    "last_dense_layer = VGG16_model.layers[-1]\n",
    "\n",
    "# Reconnect the layers\n",
    "x = dropout1(till_pooling.output)\n",
    "x = second_last_dense_layer(x)\n",
    "x = dropout2(x)\n",
    "predictors = last_dense_layer(x)\n",
    "\n",
    "# Create a new model\n",
    "VGG16_model_dropout = Model(input=VGG16_model.input, output=predictors)\n",
    "\n",
    "# Compile the model\n",
    "VGG16_model_dropout.compile(loss='binary_crossentropy',optimizer=optimizers.Adam(lr=1e-6),metrics=['acc'])\n",
    "\n",
    "VGG16_model_dropout.summary()"
   ]
  },
  {
   "cell_type": "markdown",
   "metadata": {
    "colab_type": "text",
    "id": "UgPfJR304d_F"
   },
   "source": [
    "### After adding the dropout try fitting again to get the best model"
   ]
  },
  {
   "cell_type": "code",
   "execution_count": 0,
   "metadata": {
    "colab": {
     "base_uri": "https://localhost:8080/",
     "height": 153
    },
    "colab_type": "code",
    "id": "GhV9jtaS46h2",
    "outputId": "385b077a-3c29-4f9b-f74f-b0a768105c1d"
   },
   "outputs": [
    {
     "name": "stdout",
     "output_type": "stream",
     "text": [
      "Epoch 1/50\n",
      "494/493 [==============================] - 396s 802ms/step - loss: 0.0595 - acc: 0.9816 - val_loss: 0.5807 - val_acc: 0.8602\n",
      "Epoch 2/50\n",
      "494/493 [==============================] - 397s 803ms/step - loss: 0.0469 - acc: 0.9846 - val_loss: 0.5778 - val_acc: 0.8645\n",
      "Epoch 3/50\n",
      "494/493 [==============================] - 396s 802ms/step - loss: 0.0389 - acc: 0.9872 - val_loss: 0.5975 - val_acc: 0.8624\n",
      "Epoch 4/50\n",
      "494/493 [==============================] - 396s 802ms/step - loss: 0.0357 - acc: 0.9897 - val_loss: 0.5957 - val_acc: 0.8624\n"
     ]
    }
   ],
   "source": [
    "# Re-fit the model after adding dropout\n",
    "# Setup callbacks to save the best model and early stopping if val loss doesn't decrease after 2 epochs\n",
    "# https://chrisalbon.com/deep_learning/keras/neural_network_early_stopping/\n",
    "from keras.callbacks import EarlyStopping, ModelCheckpoint\n",
    "\n",
    "# Set callback functions to early stop training and save the best model so far\n",
    "callbacks = [EarlyStopping(monitor='val_loss', patience=2),ModelCheckpoint(filepath='best_model_dropout.h5', monitor='val_loss', save_best_only=True)]\n",
    "\n",
    "EPOCHS = 50\n",
    "history_new = VGG16_model_dropout.fit_generator(generator=trainGen,steps_per_epoch=len(train_image_list)/BATCH_SIZE,epochs=EPOCHS,validation_data=validGen,validation_steps=len(valid_image_list)/BATCH_SIZE,class_weight=[weight_0,weight_1],callbacks=callbacks,workers=0)"
   ]
  },
  {
   "cell_type": "code",
   "execution_count": 0,
   "metadata": {
    "colab": {
     "base_uri": "https://localhost:8080/",
     "height": 295
    },
    "colab_type": "code",
    "id": "fBZNMtHO46h7",
    "outputId": "5bda4312-2284-486e-90fa-07a6e9382986"
   },
   "outputs": [
    {
     "data": {
      "image/png": "[encoded data removed]",
      "text/plain": [
       "<Figure size 1152x288 with 2 Axes>"
      ]
     },
     "metadata": {
      "tags": []
     },
     "output_type": "display_data"
    }
   ],
   "source": [
    "# Training plots\n",
    "plt.rcParams[\"figure.figsize\"] = (16,4)\n",
    "\n",
    "train_acc = history_new.history['acc']\n",
    "valid_acc = history_new.history['val_acc']\n",
    "train_loss = history_new.history['loss']\n",
    "valid_loss = history_new.history['val_loss']\n",
    "\n",
    "plt.subplot(1,2,1)\n",
    "plt.plot(train_acc,label='Training accuracy')\n",
    "plt.plot(valid_acc,label='Validation accuracy')\n",
    "plt.title('Acc graph')\n",
    "plt.legend(loc='lower left')\n",
    "plt.ylabel('Accuracy')\n",
    "plt.xlabel('Epochs')\n",
    "\n",
    "plt.subplot(1,2,2)\n",
    "plt.plot(train_loss,label='Training loss')\n",
    "plt.plot(valid_loss,label='Validation loss')\n",
    "plt.title('Loss graph')\n",
    "plt.legend(loc='lower left')\n",
    "plt.ylabel('Binary Cross-Entropy(Our loss)')\n",
    "plt.xlabel('Epochs')\n",
    "\n",
    "plt.show()"
   ]
  },
  {
   "cell_type": "code",
   "execution_count": 0,
   "metadata": {
    "colab": {},
    "colab_type": "code",
    "id": "w2I-iZaG46h-"
   },
   "outputs": [],
   "source": [
    "# Load our best model as VGG16\n",
    "from keras.models import load_model\n",
    "\n",
    "VGG16_best_dropout = load_model('best_model_dropout.h5')"
   ]
  },
  {
   "cell_type": "code",
   "execution_count": 0,
   "metadata": {
    "colab": {
     "base_uri": "https://localhost:8080/",
     "height": 51
    },
    "colab_type": "code",
    "id": "2sos-4nC46iD",
    "outputId": "3ac979c6-a73f-464e-a94d-26f02f0f391a"
   },
   "outputs": [
    {
     "name": "stdout",
     "output_type": "stream",
     "text": [
      "Evaluation loss = 0.5778068326168283\n",
      "Evaluation accuracy = 86.45161223667924\n"
     ]
    }
   ],
   "source": [
    "# Try to evaluate our model at this stage before unfreezing some VGG layers and then re-fitting our model\n",
    "evaluation = VGG16_best_dropout.evaluate_generator(generator=validGen,steps=len(valid_image_list)/BATCH_SIZE,workers=0)\n",
    "print('Evaluation loss =',evaluation[0])\n",
    "print('Evaluation accuracy =',evaluation[1]*100)"
   ]
  },
  {
   "cell_type": "code",
   "execution_count": 0,
   "metadata": {
    "colab": {
     "base_uri": "https://localhost:8080/",
     "height": 34
    },
    "colab_type": "code",
    "id": "6Q4b9GbSoDO2",
    "outputId": "0b75678b-3bb0-4800-c8a6-4fc068df54d0"
   },
   "outputs": [
    {
     "name": "stdout",
     "output_type": "stream",
     "text": [
      "Saved model to disk\n"
     ]
    }
   ],
   "source": [
    "# Save the model\n",
    "model_json = VGG16_model.to_json()\n",
    "with open(\"VGG16_model_finetuned_new_architecture.json\", \"w\") as json_file:\n",
    "    json_file.write(model_json)\n",
    "# serialize weights to HDF5\n",
    "VGG16_model.save_weights(\"VGG16_model_finetuned_new_weights.h5\")\n",
    "print(\"Saved model to disk\")"
   ]
  },
  {
   "cell_type": "code",
   "execution_count": 0,
   "metadata": {
    "colab": {},
    "colab_type": "code",
    "id": "Ixm1ZR0546iP"
   },
   "outputs": [],
   "source": [
    "# Dwonload this saved model\n",
    "from google.colab import files\n",
    "files.download('vgg16_elbow_finetuned_dropout_30epochs.h5')"
   ]
  },
  {
   "cell_type": "code",
   "execution_count": 0,
   "metadata": {
    "colab": {},
    "colab_type": "code",
    "id": "VxIHZm3O46iR"
   },
   "outputs": [],
   "source": [
    "# Get predictions from our model\n",
    "predictions = VGG16_best_dropout.predict_generator(validGen,steps=len(valid_image_list)/BATCH_SIZE,workers=0)"
   ]
  },
  {
   "cell_type": "code",
   "execution_count": 0,
   "metadata": {
    "colab": {},
    "colab_type": "code",
    "id": "UUdiZjwu46iX"
   },
   "outputs": [],
   "source": [
    "# Get binary predictions using a threshold\n",
    "threshold = 0.5\n",
    "for pred in predictions.T.tolist():\n",
    "  predictions = pred\n",
    "  \n",
    "predictions_binary = []\n",
    "\n",
    "for prediction in predictions:\n",
    "  if prediction < threshold:\n",
    "    predictions_binary.append(0)\n",
    "  else:\n",
    "    predictions_binary.append(1)\n",
    "\n",
    "#predictions_binary"
   ]
  },
  {
   "cell_type": "code",
   "execution_count": 0,
   "metadata": {
    "colab": {
     "base_uri": "https://localhost:8080/",
     "height": 170
    },
    "colab_type": "code",
    "id": "8xgbaYFG46ib",
    "outputId": "6a34576b-2c1f-4c79-d200-0471610e27ed"
   },
   "outputs": [
    {
     "name": "stdout",
     "output_type": "stream",
     "text": [
      "              precision    recall  f1-score   support\n",
      "\n",
      "           0       0.90      0.84      0.87       252\n",
      "           1       0.83      0.89      0.86       213\n",
      "\n",
      "   micro avg       0.86      0.86      0.86       465\n",
      "   macro avg       0.86      0.87      0.86       465\n",
      "weighted avg       0.87      0.86      0.86       465\n",
      "\n"
     ]
    }
   ],
   "source": [
    "# Get the classification report\n",
    "from sklearn.metrics import classification_report\n",
    "\n",
    "report = classification_report(predictions_binary,valid_label_list)\n",
    "print(report)"
   ]
  },
  {
   "cell_type": "code",
   "execution_count": 0,
   "metadata": {
    "colab": {
     "base_uri": "https://localhost:8080/",
     "height": 458
    },
    "colab_type": "code",
    "id": "r1QLRcZf46ie",
    "outputId": "bc1cdc2c-4614-416a-de32-6e448cdc9986"
   },
   "outputs": [
    {
     "data": {
      "image/png": "[encoded data removed]",
      "text/plain": [
       "<Figure size 504x504 with 1 Axes>"
      ]
     },
     "metadata": {
      "tags": []
     },
     "output_type": "display_data"
    }
   ],
   "source": [
    "# Plot ROC curve\n",
    "plt.rcParams[\"figure.figsize\"] = (7,7)\n",
    "from sklearn.metrics import roc_curve, roc_auc_score\n",
    "\n",
    "fpr, tpr, thresholds = roc_curve(valid_label_list,predictions)\n",
    "auc_score = roc_auc_score(valid_label_list,predictions)\n",
    "\n",
    "plt.plot(fpr,tpr,label='VGG16 model after finetuning and dropout')\n",
    "plt.plot(fpr,fpr,label='Random guessing')\n",
    "plt.title('ROC score of VGG16(finetuning+dropout) = %2.2f'%auc_score)\n",
    "plt.xlabel('False Positive Rate')\n",
    "plt.ylabel('True Positive Rate')\n",
    "plt.legend()\n",
    "\n",
    "plt.show()"
   ]
  },
  {
   "cell_type": "markdown",
   "metadata": {
    "colab_type": "text",
    "id": "BEGXWFWlqRnL"
   },
   "source": [
    "## We can see that the model is overfitting, therefore increase dropout."
   ]
  },
  {
   "cell_type": "code",
   "execution_count": 0,
   "metadata": {
    "colab": {
     "base_uri": "https://localhost:8080/",
     "height": 153
    },
    "colab_type": "code",
    "id": "_KlpBSqqpagf",
    "outputId": "2f7e04a9-8930-4f3a-cacb-bcbbe79ca2fb"
   },
   "outputs": [
    {
     "data": {
      "text/plain": [
       "[<keras.engine.input_layer.InputLayer at 0x7f213fc14f60>,\n",
       " <keras.layers.normalization.BatchNormalization at 0x7f213fc14e10>,\n",
       " <keras.engine.training.Model at 0x7f213fc146a0>,\n",
       " <keras.layers.pooling.GlobalAveragePooling2D at 0x7f213fc09cc0>,\n",
       " <keras.layers.core.Dropout at 0x7f213fc09a90>,\n",
       " <keras.layers.core.Dense at 0x7f213fc09c50>,\n",
       " <keras.layers.core.Dropout at 0x7f213fa37400>,\n",
       " <keras.layers.core.Dense at 0x7f213fa37898>]"
      ]
     },
     "execution_count": 87,
     "metadata": {
      "tags": []
     },
     "output_type": "execute_result"
    }
   ],
   "source": [
    "VGG16_best_dropout.layers"
   ]
  },
  {
   "cell_type": "code",
   "execution_count": 0,
   "metadata": {
    "colab": {
     "base_uri": "https://localhost:8080/",
     "height": 34
    },
    "colab_type": "code",
    "id": "kDeMGGXhowkb",
    "outputId": "6e32bdb3-87e9-422c-b2a6-a282989ed7e2"
   },
   "outputs": [
    {
     "data": {
      "text/plain": [
       "<keras.layers.core.Dense at 0x7f213fc09c50>"
      ]
     },
     "execution_count": 89,
     "metadata": {
      "tags": []
     },
     "output_type": "execute_result"
    }
   ],
   "source": [
    "VGG16_best_dropout.layers[-3]"
   ]
  },
  {
   "cell_type": "code",
   "execution_count": 0,
   "metadata": {
    "colab": {
     "base_uri": "https://localhost:8080/",
     "height": 445
    },
    "colab_type": "code",
    "id": "f22ir3gJpjmq",
    "outputId": "7d2104ab-a974-404f-bfda-b397f8f5dd92"
   },
   "outputs": [
    {
     "name": "stdout",
     "output_type": "stream",
     "text": [
      "_________________________________________________________________\n",
      "Layer (type)                 Output Shape              Param #   \n",
      "=================================================================\n",
      "batch_normalization_2_input  (None, 512, 512, 3)       0         \n",
      "_________________________________________________________________\n",
      "batch_normalization_2 (Batch (None, 512, 512, 3)       12        \n",
      "_________________________________________________________________\n",
      "vgg16 (Model)                (None, 16, 16, 512)       14714688  \n",
      "_________________________________________________________________\n",
      "global_average_pooling2d_2 ( (None, 512)               0         \n",
      "_________________________________________________________________\n",
      "dropout_5 (Dropout)          (None, 512)               0         \n",
      "_________________________________________________________________\n",
      "dense_3 (Dense)              (None, 256)               131328    \n",
      "_________________________________________________________________\n",
      "dropout_6 (Dropout)          (None, 256)               0         \n",
      "_________________________________________________________________\n",
      "dense_4 (Dense)              (None, 1)                 257       \n",
      "=================================================================\n",
      "Total params: 14,846,285\n",
      "Trainable params: 13,110,791\n",
      "Non-trainable params: 1,735,494\n",
      "_________________________________________________________________\n"
     ]
    },
    {
     "name": "stderr",
     "output_type": "stream",
     "text": [
      "/usr/local/lib/python3.6/dist-packages/ipykernel_launcher.py:22: UserWarning: Update your `Model` call to the Keras 2 API: `Model(inputs=Tensor(\"ba..., outputs=Tensor(\"de...)`\n"
     ]
    }
   ],
   "source": [
    "# Add dropout between the flatten - fc1 and fc1 - fc2 layers\n",
    "# https://stackoverflow.com/questions/42475381/add-dropout-layers-between-pretrained-dense-layers-in-keras\n",
    "from keras.layers import Dropout\n",
    "from keras.models import Model\n",
    "\n",
    "#VGG16_best.layers[:-2]\n",
    "\n",
    "# Define the dropout layers\n",
    "dropout1 = Dropout(rate=0.3)\n",
    "dropout2 = Dropout(rate=0.3)\n",
    "\n",
    "# Store the previous layers\n",
    "till_pooling = VGG16_best_dropout.layers[-5]\n",
    "second_last_dense_layer = VGG16_best_dropout.layers[-3]\n",
    "last_dense_layer = VGG16_best_dropout.layers[-1]\n",
    "\n",
    "# Reconnect the layers\n",
    "x = dropout1(till_pooling.output)\n",
    "x = second_last_dense_layer(x)\n",
    "x = dropout2(x)\n",
    "predictors = last_dense_layer(x)\n",
    "\n",
    "# Create a new model\n",
    "VGG16_extra_dropout = Model(input=VGG16_best_dropout.input, output=predictors)\n",
    "\n",
    "# Compile the model\n",
    "VGG16_extra_dropout.compile(loss='binary_crossentropy',optimizer=optimizers.Adam(lr=1e-6),metrics=['acc'])\n",
    "\n",
    "VGG16_extra_dropout.summary()"
   ]
  },
  {
   "cell_type": "code",
   "execution_count": 0,
   "metadata": {
    "colab": {
     "base_uri": "https://localhost:8080/",
     "height": 119
    },
    "colab_type": "code",
    "id": "h4L2I3q4qaFF",
    "outputId": "e06d2af2-4e22-4953-f78a-4b8126fe638c"
   },
   "outputs": [
    {
     "name": "stdout",
     "output_type": "stream",
     "text": [
      "Epoch 1/50\n",
      "494/493 [==============================] - 395s 800ms/step - loss: 0.0565 - acc: 0.9828 - val_loss: 0.5994 - val_acc: 0.8688\n",
      "Epoch 2/50\n",
      "494/493 [==============================] - 396s 801ms/step - loss: 0.0565 - acc: 0.9806 - val_loss: 0.6052 - val_acc: 0.8667\n",
      "Epoch 3/50\n",
      "494/493 [==============================] - 396s 801ms/step - loss: 0.0487 - acc: 0.9854 - val_loss: 0.6153 - val_acc: 0.8624\n"
     ]
    }
   ],
   "source": [
    "# Re-fit the model after adding dropout\n",
    "# Setup callbacks to save the best model and early stopping if val loss doesn't decrease after 2 epochs\n",
    "# https://chrisalbon.com/deep_learning/keras/neural_network_early_stopping/\n",
    "from keras.callbacks import EarlyStopping, ModelCheckpoint\n",
    "\n",
    "# Set callback functions to early stop training and save the best model so far\n",
    "callbacks = [EarlyStopping(monitor='val_loss', patience=2),ModelCheckpoint(filepath='best_extra_dropout.h5', monitor='val_loss', save_best_only=True)]\n",
    "\n",
    "EPOCHS = 50\n",
    "history_new = VGG16_extra_dropout.fit_generator(generator=trainGen,steps_per_epoch=len(train_image_list)/BATCH_SIZE,epochs=EPOCHS,validation_data=validGen,validation_steps=len(valid_image_list)/BATCH_SIZE,class_weight=[weight_0,weight_1],callbacks=callbacks,workers=0)"
   ]
  },
  {
   "cell_type": "code",
   "execution_count": 0,
   "metadata": {
    "colab": {},
    "colab_type": "code",
    "id": "7TcjHVhWvX9q"
   },
   "outputs": [],
   "source": [
    "VGG16_extra_dropout = load_model('best_extra_dropout.h5')"
   ]
  },
  {
   "cell_type": "code",
   "execution_count": 0,
   "metadata": {
    "colab": {
     "base_uri": "https://localhost:8080/",
     "height": 51
    },
    "colab_type": "code",
    "id": "lQ6PYqcPvov9",
    "outputId": "349d0568-2904-45fa-a226-3ad11bfd553b"
   },
   "outputs": [
    {
     "name": "stdout",
     "output_type": "stream",
     "text": [
      "Evaluation loss = 0.5993572986667215\n",
      "Evaluation accuracy = 86.88171973792456\n"
     ]
    }
   ],
   "source": [
    "# Try to evaluate our model at this stage before unfreezing some VGG layers and then re-fitting our model\n",
    "evaluation = VGG16_extra_dropout.evaluate_generator(generator=validGen,steps=len(valid_image_list)/BATCH_SIZE,workers=0)\n",
    "print('Evaluation loss =',evaluation[0])\n",
    "print('Evaluation accuracy =',evaluation[1]*100)"
   ]
  },
  {
   "cell_type": "code",
   "execution_count": 0,
   "metadata": {
    "colab": {
     "base_uri": "https://localhost:8080/",
     "height": 34
    },
    "colab_type": "code",
    "id": "ruDda0mvvowC",
    "outputId": "7c57e3c6-97b4-422d-93d2-05f1842b9a12"
   },
   "outputs": [
    {
     "name": "stdout",
     "output_type": "stream",
     "text": [
      "Saved model to disk\n"
     ]
    }
   ],
   "source": [
    "# Save the model\n",
    "model_json = VGG16_model.to_json()\n",
    "with open(\"VGG16_model_finetuned_extra_architecture.json\", \"w\") as json_file:\n",
    "    json_file.write(model_json)\n",
    "# serialize weights to HDF5\n",
    "VGG16_model.save_weights(\"VGG16_model_extra_weights.h5\")\n",
    "print(\"Saved model to disk\")"
   ]
  },
  {
   "cell_type": "code",
   "execution_count": 0,
   "metadata": {
    "colab": {},
    "colab_type": "code",
    "id": "lisMFVDUvowG"
   },
   "outputs": [],
   "source": [
    "# Get predictions from our model\n",
    "predictions = VGG16_extra_dropout.predict_generator(validGen,steps=len(valid_image_list)/BATCH_SIZE,workers=0)"
   ]
  },
  {
   "cell_type": "code",
   "execution_count": 0,
   "metadata": {
    "colab": {},
    "colab_type": "code",
    "id": "NSjhkkqAvowJ"
   },
   "outputs": [],
   "source": [
    "# Get binary predictions using a threshold\n",
    "threshold = 0.5\n",
    "for pred in predictions.T.tolist():\n",
    "  predictions = pred\n",
    "  \n",
    "predictions_binary = []\n",
    "\n",
    "for prediction in predictions:\n",
    "  if prediction < threshold:\n",
    "    predictions_binary.append(0)\n",
    "  else:\n",
    "    predictions_binary.append(1)\n",
    "\n",
    "#predictions_binary"
   ]
  },
  {
   "cell_type": "code",
   "execution_count": 0,
   "metadata": {
    "colab": {
     "base_uri": "https://localhost:8080/",
     "height": 170
    },
    "colab_type": "code",
    "id": "koa2zPBKvowN",
    "outputId": "4867ceb5-7d1b-4b7c-9d3b-2802ee55b8a5"
   },
   "outputs": [
    {
     "name": "stdout",
     "output_type": "stream",
     "text": [
      "              precision    recall  f1-score   support\n",
      "\n",
      "           0       0.91      0.85      0.87       252\n",
      "           1       0.83      0.90      0.86       213\n",
      "\n",
      "   micro avg       0.87      0.87      0.87       465\n",
      "   macro avg       0.87      0.87      0.87       465\n",
      "weighted avg       0.87      0.87      0.87       465\n",
      "\n"
     ]
    }
   ],
   "source": [
    "# Get the classification report\n",
    "from sklearn.metrics import classification_report\n",
    "\n",
    "report = classification_report(predictions_binary,valid_label_list)\n",
    "print(report)"
   ]
  },
  {
   "cell_type": "code",
   "execution_count": 0,
   "metadata": {
    "colab": {
     "base_uri": "https://localhost:8080/",
     "height": 458
    },
    "colab_type": "code",
    "id": "6S92Ph0jvowU",
    "outputId": "2d06db85-e40c-492c-b73a-46bbb2603685"
   },
   "outputs": [
    {
     "data": {
      "image/png": "[encoded data removed]",
      "text/plain": [
       "<Figure size 504x504 with 1 Axes>"
      ]
     },
     "metadata": {
      "tags": []
     },
     "output_type": "display_data"
    }
   ],
   "source": [
    "# Plot ROC curve\n",
    "plt.rcParams[\"figure.figsize\"] = (7,7)\n",
    "from sklearn.metrics import roc_curve, roc_auc_score\n",
    "\n",
    "fpr, tpr, thresholds = roc_curve(valid_label_list,predictions)\n",
    "auc_score = roc_auc_score(valid_label_list,predictions)\n",
    "\n",
    "plt.plot(fpr,tpr,label='VGG16 model after finetuning and dropout')\n",
    "plt.plot(fpr,fpr,label='Random guessing')\n",
    "plt.title('ROC score of VGG16(finetuning+dropout) = %2.2f'%auc_score)\n",
    "plt.xlabel('False Positive Rate')\n",
    "plt.ylabel('True Positive Rate')\n",
    "plt.legend()\n",
    "\n",
    "plt.show()"
   ]
  },
  {
   "cell_type": "code",
   "execution_count": 0,
   "metadata": {
    "colab": {
     "base_uri": "https://localhost:8080/",
     "height": 445
    },
    "colab_type": "code",
    "id": "ZkcNjq7Qx4vc",
    "outputId": "a30a9e53-a7bb-4949-d295-a15652d8b158"
   },
   "outputs": [
    {
     "name": "stdout",
     "output_type": "stream",
     "text": [
      "_________________________________________________________________\n",
      "Layer (type)                 Output Shape              Param #   \n",
      "=================================================================\n",
      "batch_normalization_2_input  (None, 512, 512, 3)       0         \n",
      "_________________________________________________________________\n",
      "batch_normalization_2 (Batch (None, 512, 512, 3)       12        \n",
      "_________________________________________________________________\n",
      "vgg16 (Model)                (None, 16, 16, 512)       14714688  \n",
      "_________________________________________________________________\n",
      "global_average_pooling2d_2 ( (None, 512)               0         \n",
      "_________________________________________________________________\n",
      "dropout_9 (Dropout)          (None, 512)               0         \n",
      "_________________________________________________________________\n",
      "dense_3 (Dense)              (None, 256)               131328    \n",
      "_________________________________________________________________\n",
      "dropout_10 (Dropout)         (None, 256)               0         \n",
      "_________________________________________________________________\n",
      "dense_4 (Dense)              (None, 1)                 257       \n",
      "=================================================================\n",
      "Total params: 14,846,285\n",
      "Trainable params: 13,110,791\n",
      "Non-trainable params: 1,735,494\n",
      "_________________________________________________________________\n"
     ]
    },
    {
     "name": "stderr",
     "output_type": "stream",
     "text": [
      "/usr/local/lib/python3.6/dist-packages/ipykernel_launcher.py:22: UserWarning: Update your `Model` call to the Keras 2 API: `Model(inputs=Tensor(\"ba..., outputs=Tensor(\"de...)`\n"
     ]
    }
   ],
   "source": [
    "# Add dropout between the flatten - fc1 and fc1 - fc2 layers\n",
    "# https://stackoverflow.com/questions/42475381/add-dropout-layers-between-pretrained-dense-layers-in-keras\n",
    "from keras.layers import Dropout\n",
    "from keras.models import Model\n",
    "\n",
    "#VGG16_best.layers[:-2]\n",
    "\n",
    "# Define the dropout layers\n",
    "dropout1 = Dropout(rate=0.4)\n",
    "dropout2 = Dropout(rate=0.4)\n",
    "\n",
    "# Store the previous layers\n",
    "till_pooling = VGG16_extra_dropout.layers[-5]\n",
    "second_last_dense_layer = VGG16_extra_dropout.layers[-3]\n",
    "last_dense_layer = VGG16_extra_dropout.layers[-1]\n",
    "\n",
    "# Reconnect the layers\n",
    "x = dropout1(till_pooling.output)\n",
    "x = second_last_dense_layer(x)\n",
    "x = dropout2(x)\n",
    "predictors = last_dense_layer(x)\n",
    "\n",
    "# Create a new model\n",
    "VGG16_extra_2_dropout = Model(input=VGG16_extra_dropout.input, output=predictors)\n",
    "\n",
    "# Compile the model\n",
    "VGG16_extra_2_dropout.compile(loss='binary_crossentropy',optimizer=optimizers.Adam(lr=1e-7),metrics=['acc'])\n",
    "\n",
    "VGG16_extra_2_dropout.summary()"
   ]
  },
  {
   "cell_type": "code",
   "execution_count": 0,
   "metadata": {
    "colab": {
     "base_uri": "https://localhost:8080/",
     "height": 119
    },
    "colab_type": "code",
    "id": "-AWSGz5gyRP3",
    "outputId": "88dc65ec-685a-428c-ce50-67fdd0a944ed"
   },
   "outputs": [
    {
     "name": "stdout",
     "output_type": "stream",
     "text": [
      "Epoch 1/50\n",
      "494/493 [==============================] - 398s 805ms/step - loss: 0.0485 - acc: 0.9842 - val_loss: 0.6492 - val_acc: 0.8645\n",
      "Epoch 2/50\n",
      "494/493 [==============================] - 396s 801ms/step - loss: 0.0513 - acc: 0.9830 - val_loss: 0.6589 - val_acc: 0.8581\n",
      "Epoch 3/50\n",
      "494/493 [==============================] - 397s 803ms/step - loss: 0.0512 - acc: 0.9824 - val_loss: 0.6499 - val_acc: 0.8602\n"
     ]
    }
   ],
   "source": [
    "# Re-fit the model after adding dropout\n",
    "# Setup callbacks to save the best model and early stopping if val loss doesn't decrease after 2 epochs\n",
    "# https://chrisalbon.com/deep_learning/keras/neural_network_early_stopping/\n",
    "from keras.callbacks import EarlyStopping, ModelCheckpoint\n",
    "\n",
    "# Set callback functions to early stop training and save the best model so far\n",
    "callbacks = [EarlyStopping(monitor='val_loss', patience=2),ModelCheckpoint(filepath='best_extra_2_dropout.h5', monitor='val_loss', save_best_only=True)]\n",
    "\n",
    "EPOCHS = 50\n",
    "history_new = VGG16_extra_2_dropout.fit_generator(generator=trainGen,steps_per_epoch=len(train_image_list)/BATCH_SIZE,epochs=EPOCHS,validation_data=validGen,validation_steps=len(valid_image_list)/BATCH_SIZE,class_weight=[weight_0,weight_1],callbacks=callbacks,workers=0)"
   ]
  },
  {
   "cell_type": "code",
   "execution_count": 0,
   "metadata": {
    "colab": {
     "base_uri": "https://localhost:8080/",
     "height": 34
    },
    "colab_type": "code",
    "id": "iIVB7LHH-_6p",
    "outputId": "e8c34856-2804-4f13-88b0-fc5ac88fa71a"
   },
   "outputs": [
    {
     "name": "stdout",
     "output_type": "stream",
     "text": [
      "Loaded model from disk\n"
     ]
    }
   ],
   "source": [
    "#Try loading our models\n",
    "from keras.models import model_from_json\n",
    "from keras import optimizers\n",
    "\n",
    "# load json and create model\n",
    "json_file = open('VGG16_model_finetuned_extra_architecture.json', 'r')\n",
    "loaded_model_json = json_file.read()\n",
    "json_file.close()\n",
    "loaded_model = model_from_json(loaded_model_json)\n",
    "# load weights into new model\n",
    "loaded_model.load_weights(\"VGG16_model_extra_weights.h5\")\n",
    "print(\"Loaded model from disk\")\n",
    " \n",
    "# evaluate loaded model on test data\n",
    "loaded_model.compile(loss='binary_crossentropy',optimizer=optimizers.Adam(lr=1e-7),metrics=['acc'])"
   ]
  },
  {
   "cell_type": "code",
   "execution_count": 0,
   "metadata": {
    "colab": {
     "base_uri": "https://localhost:8080/",
     "height": 51
    },
    "colab_type": "code",
    "id": "e0oejELOAc_8",
    "outputId": "ae6cba7e-8ac5-47dc-b5e4-803583504910"
   },
   "outputs": [
    {
     "name": "stdout",
     "output_type": "stream",
     "text": [
      "Evaluation loss = 0.5957327469011708\n",
      "Evaluation accuracy = 86.23655842196557\n"
     ]
    }
   ],
   "source": [
    "# Try to evaluate our model at this stage before unfreezing some VGG layers and then re-fitting our model\n",
    "evaluation = loaded_model.evaluate_generator(generator=validGen,steps=len(valid_image_list)/BATCH_SIZE,workers=0)\n",
    "print('Evaluation loss =',evaluation[0])\n",
    "print('Evaluation accuracy =',evaluation[1]*100)"
   ]
  },
  {
   "cell_type": "markdown",
   "metadata": {
    "colab_type": "text",
    "id": "5XeVoKO6DckV"
   },
   "source": [
    "## Loaded our best model successfully"
   ]
  },
  {
   "cell_type": "code",
   "execution_count": 0,
   "metadata": {
    "colab": {
     "base_uri": "https://localhost:8080/",
     "height": 204
    },
    "colab_type": "code",
    "id": "uPmuUOvFS2Er",
    "outputId": "2d2ba249-efb7-43f6-e044-65fca7c49670"
   },
   "outputs": [
    {
     "data": {
      "text/html": [
       "<div>\n",
       "<style scoped>\n",
       "    .dataframe tbody tr th:only-of-type {\n",
       "        vertical-align: middle;\n",
       "    }\n",
       "\n",
       "    .dataframe tbody tr th {\n",
       "        vertical-align: top;\n",
       "    }\n",
       "\n",
       "    .dataframe thead th {\n",
       "        text-align: right;\n",
       "    }\n",
       "</style>\n",
       "<table border=\"1\" class=\"dataframe\">\n",
       "  <thead>\n",
       "    <tr style=\"text-align: right;\">\n",
       "      <th></th>\n",
       "      <th>study_name</th>\n",
       "      <th>label</th>\n",
       "      <th>images</th>\n",
       "    </tr>\n",
       "  </thead>\n",
       "  <tbody>\n",
       "    <tr>\n",
       "      <th>866</th>\n",
       "      <td>MURA-v1.1/valid/XR_ELBOW/patient11659/study1_p...</td>\n",
       "      <td>1</td>\n",
       "      <td>[MURA-v1.1/valid/XR_ELBOW/patient11659/study1_...</td>\n",
       "    </tr>\n",
       "    <tr>\n",
       "      <th>867</th>\n",
       "      <td>MURA-v1.1/valid/XR_ELBOW/patient11802/study1_p...</td>\n",
       "      <td>1</td>\n",
       "      <td>[MURA-v1.1/valid/XR_ELBOW/patient11802/study1_...</td>\n",
       "    </tr>\n",
       "    <tr>\n",
       "      <th>868</th>\n",
       "      <td>MURA-v1.1/valid/XR_ELBOW/patient11803/study1_p...</td>\n",
       "      <td>1</td>\n",
       "      <td>[MURA-v1.1/valid/XR_ELBOW/patient11803/study1_...</td>\n",
       "    </tr>\n",
       "    <tr>\n",
       "      <th>869</th>\n",
       "      <td>MURA-v1.1/valid/XR_ELBOW/patient11804/study1_p...</td>\n",
       "      <td>1</td>\n",
       "      <td>[MURA-v1.1/valid/XR_ELBOW/patient11804/study1_...</td>\n",
       "    </tr>\n",
       "    <tr>\n",
       "      <th>870</th>\n",
       "      <td>MURA-v1.1/valid/XR_ELBOW/patient11805/study1_p...</td>\n",
       "      <td>1</td>\n",
       "      <td>[MURA-v1.1/valid/XR_ELBOW/patient11805/study1_...</td>\n",
       "    </tr>\n",
       "  </tbody>\n",
       "</table>\n",
       "</div>"
      ],
      "text/plain": [
       "                                            study_name  label  \\\n",
       "866  MURA-v1.1/valid/XR_ELBOW/patient11659/study1_p...      1   \n",
       "867  MURA-v1.1/valid/XR_ELBOW/patient11802/study1_p...      1   \n",
       "868  MURA-v1.1/valid/XR_ELBOW/patient11803/study1_p...      1   \n",
       "869  MURA-v1.1/valid/XR_ELBOW/patient11804/study1_p...      1   \n",
       "870  MURA-v1.1/valid/XR_ELBOW/patient11805/study1_p...      1   \n",
       "\n",
       "                                                images  \n",
       "866  [MURA-v1.1/valid/XR_ELBOW/patient11659/study1_...  \n",
       "867  [MURA-v1.1/valid/XR_ELBOW/patient11802/study1_...  \n",
       "868  [MURA-v1.1/valid/XR_ELBOW/patient11803/study1_...  \n",
       "869  [MURA-v1.1/valid/XR_ELBOW/patient11804/study1_...  \n",
       "870  [MURA-v1.1/valid/XR_ELBOW/patient11805/study1_...  "
      ]
     },
     "execution_count": 43,
     "metadata": {
      "tags": []
     },
     "output_type": "execute_result"
    }
   ],
   "source": [
    "# Studywise predictions\n",
    "valid_labelled_studies.head(5)"
   ]
  },
  {
   "cell_type": "code",
   "execution_count": 46,
   "metadata": {
    "colab": {
     "base_uri": "https://localhost:8080/",
     "height": 5389
    },
    "colab_type": "code",
    "id": "SDab2dTLbLBp",
    "outputId": "05a2bb24-b322-4b39-ff96-0fdb82127528"
   },
   "outputs": [
    {
     "name": "stdout",
     "output_type": "stream",
     "text": [
      "Study:\n",
      " MURA-v1.1/valid/XR_ELBOW/patient11659/study1_positive/\n",
      "Study:\n",
      " MURA-v1.1/valid/XR_ELBOW/patient11802/study1_positive/\n",
      "Study:\n",
      " MURA-v1.1/valid/XR_ELBOW/patient11803/study1_positive/\n",
      "Study:\n",
      " MURA-v1.1/valid/XR_ELBOW/patient11804/study1_positive/\n",
      "Study:\n",
      " MURA-v1.1/valid/XR_ELBOW/patient11805/study1_positive/\n",
      "Study:\n",
      " MURA-v1.1/valid/XR_ELBOW/patient11414/study1_positive/\n",
      "Study:\n",
      " MURA-v1.1/valid/XR_ELBOW/patient11186/study1_positive/\n",
      "Study:\n",
      " MURA-v1.1/valid/XR_ELBOW/patient11806/study1_positive/\n",
      "Study:\n",
      " MURA-v1.1/valid/XR_ELBOW/patient11807/study1_positive/\n",
      "Study:\n",
      " MURA-v1.1/valid/XR_ELBOW/patient11793/study1_positive/\n",
      "Study:\n",
      " MURA-v1.1/valid/XR_ELBOW/patient11358/study1_positive/\n",
      "Study:\n",
      " MURA-v1.1/valid/XR_ELBOW/patient11417/study1_positive/\n",
      "Study:\n",
      " MURA-v1.1/valid/XR_ELBOW/patient11417/study2_positive/\n",
      "Study:\n",
      " MURA-v1.1/valid/XR_ELBOW/patient11586/study1_positive/\n",
      "Study:\n",
      " MURA-v1.1/valid/XR_ELBOW/patient11389/study1_positive/\n",
      "Study:\n",
      " MURA-v1.1/valid/XR_ELBOW/patient11808/study1_positive/\n",
      "Study:\n",
      " MURA-v1.1/valid/XR_ELBOW/patient11342/study1_positive/\n",
      "Study:\n",
      " MURA-v1.1/valid/XR_ELBOW/patient11603/study1_positive/\n",
      "Study:\n",
      " MURA-v1.1/valid/XR_ELBOW/patient11809/study1_positive/\n",
      "Study:\n",
      " MURA-v1.1/valid/XR_ELBOW/patient11810/study1_positive/\n",
      "Study:\n",
      " MURA-v1.1/valid/XR_ELBOW/patient11811/study1_positive/\n",
      "Study:\n",
      " MURA-v1.1/valid/XR_ELBOW/patient11812/study1_positive/\n",
      "Study:\n",
      " MURA-v1.1/valid/XR_ELBOW/patient11189/study1_positive/\n",
      "Study:\n",
      " MURA-v1.1/valid/XR_ELBOW/patient11780/study1_positive/\n",
      "Study:\n",
      " MURA-v1.1/valid/XR_ELBOW/patient11813/study1_positive/\n",
      "Study:\n",
      " MURA-v1.1/valid/XR_ELBOW/patient11472/study1_positive/\n",
      "Study:\n",
      " MURA-v1.1/valid/XR_ELBOW/patient11326/study1_positive/\n",
      "Study:\n",
      " MURA-v1.1/valid/XR_ELBOW/patient11814/study1_positive/\n",
      "Study:\n",
      " MURA-v1.1/valid/XR_ELBOW/patient11390/study1_positive/\n",
      "Study:\n",
      " MURA-v1.1/valid/XR_ELBOW/patient11390/study2_negative/\n",
      "Study:\n",
      " MURA-v1.1/valid/XR_ELBOW/patient11264/study1_positive/\n",
      "Study:\n",
      " MURA-v1.1/valid/XR_ELBOW/patient11815/study1_positive/\n",
      "Study:\n",
      " MURA-v1.1/valid/XR_ELBOW/patient11816/study1_positive/\n",
      "Study:\n",
      " MURA-v1.1/valid/XR_ELBOW/patient11817/study1_positive/\n",
      "Study:\n",
      " MURA-v1.1/valid/XR_ELBOW/patient11818/study1_positive/\n",
      "Study:\n",
      " MURA-v1.1/valid/XR_ELBOW/patient11819/study1_positive/\n",
      "Study:\n",
      " MURA-v1.1/valid/XR_ELBOW/patient11820/study1_positive/\n",
      "Study:\n",
      " MURA-v1.1/valid/XR_ELBOW/patient11821/study1_positive/\n",
      "Study:\n",
      " MURA-v1.1/valid/XR_ELBOW/patient11764/study1_positive/\n",
      "Study:\n",
      " MURA-v1.1/valid/XR_ELBOW/patient11312/study1_positive/\n",
      "Study:\n",
      " MURA-v1.1/valid/XR_ELBOW/patient11430/study1_positive/\n",
      "Study:\n",
      " MURA-v1.1/valid/XR_ELBOW/patient11822/study1_positive/\n",
      "Study:\n",
      " MURA-v1.1/valid/XR_ELBOW/patient11823/study1_positive/\n",
      "Study:\n",
      " MURA-v1.1/valid/XR_ELBOW/patient11824/study1_positive/\n",
      "Study:\n",
      " MURA-v1.1/valid/XR_ELBOW/patient11824/study2_negative/\n",
      "Study:\n",
      " MURA-v1.1/valid/XR_ELBOW/patient11825/study1_positive/\n",
      "Study:\n",
      " MURA-v1.1/valid/XR_ELBOW/patient11756/study1_positive/\n",
      "Study:\n",
      " MURA-v1.1/valid/XR_ELBOW/patient11826/study1_positive/\n",
      "Study:\n",
      " MURA-v1.1/valid/XR_ELBOW/patient11827/study1_positive/\n",
      "Study:\n",
      " MURA-v1.1/valid/XR_ELBOW/patient11827/study2_negative/\n",
      "Study:\n",
      " MURA-v1.1/valid/XR_ELBOW/patient11828/study1_positive/\n",
      "Study:\n",
      " MURA-v1.1/valid/XR_ELBOW/patient11829/study1_positive/\n",
      "Study:\n",
      " MURA-v1.1/valid/XR_ELBOW/patient11830/study1_positive/\n",
      "Study:\n",
      " MURA-v1.1/valid/XR_ELBOW/patient11236/study1_positive/\n",
      "Study:\n",
      " MURA-v1.1/valid/XR_ELBOW/patient11831/study1_positive/\n",
      "Study:\n",
      " MURA-v1.1/valid/XR_ELBOW/patient11832/study1_positive/\n",
      "Study:\n",
      " MURA-v1.1/valid/XR_ELBOW/patient11833/study1_positive/\n",
      "Study:\n",
      " MURA-v1.1/valid/XR_ELBOW/patient11834/study1_positive/\n",
      "Study:\n",
      " MURA-v1.1/valid/XR_ELBOW/patient11835/study1_positive/\n",
      "Study:\n",
      " MURA-v1.1/valid/XR_ELBOW/patient11836/study1_positive/\n",
      "Study:\n",
      " MURA-v1.1/valid/XR_ELBOW/patient11837/study1_positive/\n",
      "Study:\n",
      " MURA-v1.1/valid/XR_ELBOW/patient11838/study1_positive/\n",
      "Study:\n",
      " MURA-v1.1/valid/XR_ELBOW/patient11421/study1_positive/\n",
      "Study:\n",
      " MURA-v1.1/valid/XR_ELBOW/patient11839/study1_positive/\n",
      "Study:\n",
      " MURA-v1.1/valid/XR_ELBOW/patient11840/study1_positive/\n",
      "Study:\n",
      " MURA-v1.1/valid/XR_ELBOW/patient11841/study1_positive/\n",
      "Study:\n",
      " MURA-v1.1/valid/XR_ELBOW/patient11842/study1_positive/\n",
      "Study:\n",
      " MURA-v1.1/valid/XR_ELBOW/patient11843/study1_positive/\n",
      "Study:\n",
      " MURA-v1.1/valid/XR_ELBOW/patient11844/study1_positive/\n",
      "Study:\n",
      " MURA-v1.1/valid/XR_ELBOW/patient11243/study1_negative/\n",
      "Study:\n",
      " MURA-v1.1/valid/XR_ELBOW/patient11736/study1_negative/\n",
      "Study:\n",
      " MURA-v1.1/valid/XR_ELBOW/patient11651/study1_negative/\n",
      "Study:\n",
      " MURA-v1.1/valid/XR_ELBOW/patient11345/study1_negative/\n",
      "Study:\n",
      " MURA-v1.1/valid/XR_ELBOW/patient11845/study1_negative/\n",
      "Study:\n",
      " MURA-v1.1/valid/XR_ELBOW/patient11846/study1_negative/\n",
      "Study:\n",
      " MURA-v1.1/valid/XR_ELBOW/patient11847/study1_negative/\n",
      "Study:\n",
      " MURA-v1.1/valid/XR_ELBOW/patient11534/study1_negative/\n",
      "Study:\n",
      " MURA-v1.1/valid/XR_ELBOW/patient11848/study1_negative/\n",
      "Study:\n",
      " MURA-v1.1/valid/XR_ELBOW/patient11773/study1_negative/\n",
      "Study:\n",
      " MURA-v1.1/valid/XR_ELBOW/patient11849/study1_negative/\n",
      "Study:\n",
      " MURA-v1.1/valid/XR_ELBOW/patient11850/study1_negative/\n",
      "Study:\n",
      " MURA-v1.1/valid/XR_ELBOW/patient11569/study1_negative/\n",
      "Study:\n",
      " MURA-v1.1/valid/XR_ELBOW/patient11606/study1_negative/\n",
      "Study:\n",
      " MURA-v1.1/valid/XR_ELBOW/patient11851/study1_negative/\n",
      "Study:\n",
      " MURA-v1.1/valid/XR_ELBOW/patient11851/study2_negative/\n",
      "Study:\n",
      " MURA-v1.1/valid/XR_ELBOW/patient11563/study1_negative/\n",
      "Study:\n",
      " MURA-v1.1/valid/XR_ELBOW/patient11204/study1_negative/\n",
      "Study:\n",
      " MURA-v1.1/valid/XR_ELBOW/patient11222/study1_negative/\n",
      "Study:\n",
      " MURA-v1.1/valid/XR_ELBOW/patient11852/study1_negative/\n",
      "Study:\n",
      " MURA-v1.1/valid/XR_ELBOW/patient11238/study1_negative/\n",
      "Study:\n",
      " MURA-v1.1/valid/XR_ELBOW/patient11673/study1_negative/\n",
      "Study:\n",
      " MURA-v1.1/valid/XR_ELBOW/patient11853/study1_negative/\n",
      "Study:\n",
      " MURA-v1.1/valid/XR_ELBOW/patient11854/study1_negative/\n",
      "Study:\n",
      " MURA-v1.1/valid/XR_ELBOW/patient11443/study1_negative/\n",
      "Study:\n",
      " MURA-v1.1/valid/XR_ELBOW/patient11855/study1_negative/\n",
      "Study:\n",
      " MURA-v1.1/valid/XR_ELBOW/patient11375/study1_negative/\n",
      "Study:\n",
      " MURA-v1.1/valid/XR_ELBOW/patient11466/study1_negative/\n",
      "Study:\n",
      " MURA-v1.1/valid/XR_ELBOW/patient11349/study1_negative/\n",
      "Study:\n",
      " MURA-v1.1/valid/XR_ELBOW/patient11856/study1_negative/\n",
      "Study:\n",
      " MURA-v1.1/valid/XR_ELBOW/patient11478/study1_negative/\n",
      "Study:\n",
      " MURA-v1.1/valid/XR_ELBOW/patient11857/study1_negative/\n",
      "Study:\n",
      " MURA-v1.1/valid/XR_ELBOW/patient11763/study1_negative/\n",
      "Study:\n",
      " MURA-v1.1/valid/XR_ELBOW/patient11568/study1_negative/\n",
      "Study:\n",
      " MURA-v1.1/valid/XR_ELBOW/patient11287/study1_negative/\n",
      "Study:\n",
      " MURA-v1.1/valid/XR_ELBOW/patient11711/study1_negative/\n",
      "Study:\n",
      " MURA-v1.1/valid/XR_ELBOW/patient11858/study1_negative/\n",
      "Study:\n",
      " MURA-v1.1/valid/XR_ELBOW/patient11859/study1_negative/\n",
      "Study:\n",
      " MURA-v1.1/valid/XR_ELBOW/patient11860/study1_negative/\n",
      "Study:\n",
      " MURA-v1.1/valid/XR_ELBOW/patient11282/study1_negative/\n",
      "Study:\n",
      " MURA-v1.1/valid/XR_ELBOW/patient11317/study1_negative/\n",
      "Study:\n",
      " MURA-v1.1/valid/XR_ELBOW/patient11536/study1_negative/\n",
      "Study:\n",
      " MURA-v1.1/valid/XR_ELBOW/patient11861/study1_negative/\n",
      "Study:\n",
      " MURA-v1.1/valid/XR_ELBOW/patient11588/study1_negative/\n",
      "Study:\n",
      " MURA-v1.1/valid/XR_ELBOW/patient11247/study1_negative/\n",
      "Study:\n",
      " MURA-v1.1/valid/XR_ELBOW/patient11724/study1_negative/\n",
      "Study:\n",
      " MURA-v1.1/valid/XR_ELBOW/patient11862/study1_negative/\n",
      "Study:\n",
      " MURA-v1.1/valid/XR_ELBOW/patient11259/study1_negative/\n",
      "Study:\n",
      " MURA-v1.1/valid/XR_ELBOW/patient11402/study1_negative/\n",
      "Study:\n",
      " MURA-v1.1/valid/XR_ELBOW/patient11235/study1_negative/\n",
      "Study:\n",
      " MURA-v1.1/valid/XR_ELBOW/patient11783/study1_negative/\n",
      "Study:\n",
      " MURA-v1.1/valid/XR_ELBOW/patient11582/study1_negative/\n",
      "Study:\n",
      " MURA-v1.1/valid/XR_ELBOW/patient11863/study1_negative/\n",
      "Study:\n",
      " MURA-v1.1/valid/XR_ELBOW/patient11338/study1_negative/\n",
      "Study:\n",
      " MURA-v1.1/valid/XR_ELBOW/patient11338/study2_negative/\n",
      "Study:\n",
      " MURA-v1.1/valid/XR_ELBOW/patient11864/study1_negative/\n",
      "Study:\n",
      " MURA-v1.1/valid/XR_ELBOW/patient11865/study1_negative/\n",
      "Study:\n",
      " MURA-v1.1/valid/XR_ELBOW/patient11866/study1_negative/\n",
      "Study:\n",
      " MURA-v1.1/valid/XR_ELBOW/patient11495/study1_negative/\n",
      "Study:\n",
      " MURA-v1.1/valid/XR_ELBOW/patient11867/study1_negative/\n",
      "Study:\n",
      " MURA-v1.1/valid/XR_ELBOW/patient11775/study1_negative/\n",
      "Study:\n",
      " MURA-v1.1/valid/XR_ELBOW/patient11283/study1_negative/\n",
      "Study:\n",
      " MURA-v1.1/valid/XR_ELBOW/patient11868/study1_negative/\n",
      "Study:\n",
      " MURA-v1.1/valid/XR_ELBOW/patient11262/study1_negative/\n",
      "Study:\n",
      " MURA-v1.1/valid/XR_ELBOW/patient11869/study1_negative/\n",
      "Study:\n",
      " MURA-v1.1/valid/XR_ELBOW/patient11408/study1_negative/\n",
      "Study:\n",
      " MURA-v1.1/valid/XR_ELBOW/patient11777/study1_negative/\n",
      "Study:\n",
      " MURA-v1.1/valid/XR_ELBOW/patient11708/study1_negative/\n",
      "Study:\n",
      " MURA-v1.1/valid/XR_ELBOW/patient11870/study1_negative/\n",
      "Study:\n",
      " MURA-v1.1/valid/XR_ELBOW/patient11871/study1_negative/\n",
      "Study:\n",
      " MURA-v1.1/valid/XR_ELBOW/patient11388/study1_negative/\n",
      "Study:\n",
      " MURA-v1.1/valid/XR_ELBOW/patient11872/study1_negative/\n",
      "Study:\n",
      " MURA-v1.1/valid/XR_ELBOW/patient11873/study1_negative/\n",
      "Study:\n",
      " MURA-v1.1/valid/XR_ELBOW/patient11874/study1_negative/\n",
      "Study:\n",
      " MURA-v1.1/valid/XR_ELBOW/patient11372/study1_negative/\n",
      "Study:\n",
      " MURA-v1.1/valid/XR_ELBOW/patient11875/study1_negative/\n",
      "Study:\n",
      " MURA-v1.1/valid/XR_ELBOW/patient11876/study1_negative/\n",
      "Study:\n",
      " MURA-v1.1/valid/XR_ELBOW/patient11523/study1_negative/\n",
      "Study:\n",
      " MURA-v1.1/valid/XR_ELBOW/patient11877/study1_negative/\n",
      "Study:\n",
      " MURA-v1.1/valid/XR_ELBOW/patient11878/study1_negative/\n",
      "Study:\n",
      " MURA-v1.1/valid/XR_ELBOW/patient11368/study1_negative/\n",
      "Study:\n",
      " MURA-v1.1/valid/XR_ELBOW/patient11521/study1_negative/\n",
      "Study:\n",
      " MURA-v1.1/valid/XR_ELBOW/patient11797/study1_negative/\n",
      "Study:\n",
      " MURA-v1.1/valid/XR_ELBOW/patient11879/study1_negative/\n",
      "Study:\n",
      " MURA-v1.1/valid/XR_ELBOW/patient11217/study1_negative/\n",
      "Study:\n",
      " MURA-v1.1/valid/XR_ELBOW/patient11880/study1_negative/\n",
      "Study:\n",
      " MURA-v1.1/valid/XR_ELBOW/patient11205/study1_negative/\n",
      "Study:\n",
      " MURA-v1.1/valid/XR_ELBOW/patient11881/study1_negative/\n",
      "Study:\n",
      " MURA-v1.1/valid/XR_ELBOW/patient11334/study1_negative/\n"
     ]
    }
   ],
   "source": [
    "# Studywise predictions\n",
    "studywise_predictions = []\n",
    "studywise_predictions_binary = []\n",
    "\n",
    "test_counter = 0\n",
    "\n",
    "for indx,study_row in valid_labelled_studies.iterrows():\n",
    "  print('Study:\\n',study_row['study_name'])\n",
    "  \n",
    "  # List of images for the study\n",
    "  study_image_list = study_row['images']\n",
    "  \n",
    "  # List to store the predictions for each image\n",
    "  study_predictions = []\n",
    "  \n",
    "  # Number of study images\n",
    "  num_study_imgs = len(study_image_list)\n",
    "  \n",
    "  for study_image in study_image_list:\n",
    "    # Read the image from disk\n",
    "    image_string = tf.read_file(study_image)\n",
    "    # Decode the image\n",
    "    image = tf.image.decode_png(image_string,channels=CHANNELS)\n",
    "    # Resize into 512x512 images\n",
    "    image = tf.image.resize_image_with_crop_or_pad(image,SIZE,SIZE)\n",
    "    # Plot the image\n",
    "    image = sess.run(image)\n",
    "    # plt.imshow(image)\n",
    "    # plt.title(study_image[-10:])\n",
    "    # plt.show()\n",
    "    # Make the predictions\n",
    "    image = np.reshape(image,newshape=[1,512,512,3])\n",
    "    pred = loaded_model.predict(image)\n",
    "    study_predictions.append(pred)\n",
    "    \n",
    "  # Take the average of all predictions as the study prediction\n",
    "  avg_prediction = sum(study_predictions)/num_study_imgs\n",
    "  \n",
    "  # Sigmoid values\n",
    "  studywise_predictions.append(avg_prediction)\n",
    "    \n",
    "  # Class predictions 0/1\n",
    "  if avg_prediction < 0.5:\n",
    "    studywise_predictions_binary.append(0)\n",
    "  else:\n",
    "    studywise_predictions_binary.append(1)\n",
    "  \n",
    "#   test_counter+=1\n",
    "  \n",
    "#   if test_counter==5:\n",
    "#     break"
   ]
  },
  {
   "cell_type": "code",
   "execution_count": 47,
   "metadata": {
    "colab": {
     "base_uri": "https://localhost:8080/",
     "height": 170
    },
    "colab_type": "code",
    "id": "ajH_zd2JGaWF",
    "outputId": "baf4ae19-c0c9-4b43-d97e-3b976ee21856"
   },
   "outputs": [
    {
     "name": "stdout",
     "output_type": "stream",
     "text": [
      "              precision    recall  f1-score   support\n",
      "\n",
      "           0       0.95      0.84      0.89       103\n",
      "           1       0.76      0.91      0.83        55\n",
      "\n",
      "   micro avg       0.87      0.87      0.87       158\n",
      "   macro avg       0.85      0.88      0.86       158\n",
      "weighted avg       0.88      0.87      0.87       158\n",
      "\n"
     ]
    }
   ],
   "source": [
    "from sklearn.metrics import classification_report\n",
    "print(classification_report(studywise_predictions_binary,valid_labelled_studies['label'].tolist()),)"
   ]
  },
  {
   "cell_type": "code",
   "execution_count": 0,
   "metadata": {
    "colab": {},
    "colab_type": "code",
    "id": "ApQdfFSWlimP"
   },
   "outputs": [],
   "source": [
    "stdy_predictions = []\n",
    "\n",
    "for i in range(len(studywise_predictions)):\n",
    "  stdy_predictions.append(studywise_predictions[i][0][0])"
   ]
  },
  {
   "cell_type": "code",
   "execution_count": 56,
   "metadata": {
    "colab": {
     "base_uri": "https://localhost:8080/",
     "height": 458
    },
    "colab_type": "code",
    "id": "6j2utR2xmIDT",
    "outputId": "0998b047-086a-4d23-f698-c76cdec801b7"
   },
   "outputs": [
    {
     "data": {
      "image/png": "[encoded data removed]",
      "text/plain": [
       "<Figure size 504x504 with 1 Axes>"
      ]
     },
     "metadata": {
      "tags": []
     },
     "output_type": "display_data"
    }
   ],
   "source": [
    "# Plot ROC curve\n",
    "plt.rcParams[\"figure.figsize\"] = (7,7)\n",
    "from sklearn.metrics import roc_curve, roc_auc_score\n",
    "\n",
    "fpr, tpr, thresholds = roc_curve(valid_labelled_studies['label'].tolist(),stdy_predictions)\n",
    "auc_score = roc_auc_score(valid_labelled_studies['label'].tolist(),stdy_predictions)\n",
    "\n",
    "plt.plot(fpr,tpr,label='VGG16 model after finetuning and dropout')\n",
    "plt.plot(fpr,fpr,label='Random guessing')\n",
    "plt.title('ROC score of VGG16(finetuning+dropout) = %2.2f'%auc_score)\n",
    "plt.xlabel('False Positive Rate')\n",
    "plt.ylabel('True Positive Rate')\n",
    "plt.legend()\n",
    "\n",
    "plt.show()"
   ]
  },
  {
   "cell_type": "code",
   "execution_count": 58,
   "metadata": {
    "colab": {
     "base_uri": "https://localhost:8080/",
     "height": 34
    },
    "colab_type": "code",
    "id": "uahLNNt3m9F0",
    "outputId": "6df3c929-34e9-4ea6-d319-1cd2a1d164fc"
   },
   "outputs": [
    {
     "data": {
      "text/plain": [
       "0.7201889020070837"
      ]
     },
     "execution_count": 58,
     "metadata": {
      "tags": []
     },
     "output_type": "execute_result"
    }
   ],
   "source": [
    "# Try to calculate Cohen's Kappa score\n",
    "# In practice we need to compute this score on studies instead of individual images\n",
    "from sklearn.metrics import cohen_kappa_score\n",
    "\n",
    "cohen_kappa_score(studywise_predictions_binary,valid_labelled_studies['label'].tolist())"
   ]
  }
 ],
 "metadata": {
  "accelerator": "GPU",
  "colab": {
   "collapsed_sections": [],
   "name": "MURA.ipynb",
   "provenance": [],
   "version": "0.3.2"
  },
  "kernelspec": {
   "display_name": "Python 3",
   "language": "python",
   "name": "python3"
  },
  "language_info": {
   "codemirror_mode": {
    "name": "ipython",
    "version": 3
   },
   "file_extension": ".py",
   "mimetype": "text/x-python",
   "name": "python",
   "nbconvert_exporter": "python",
   "pygments_lexer": "ipython3",
   "version": "3.6.5"
  }
 },
 "nbformat": 4,
 "nbformat_minor": 1
}
